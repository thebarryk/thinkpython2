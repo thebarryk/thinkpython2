{
 "cells": [
  {
   "cell_type": "code",
   "execution_count": 1,
   "id": "64efd3f4",
   "metadata": {},
   "outputs": [],
   "source": [
    "import string\n",
    "import pdb\n",
    "import random\n"
   ]
  },
  {
   "cell_type": "markdown",
   "id": "6b749ffe",
   "metadata": {},
   "source": [
    "### Ex 13.7  \n",
    "Write a program that uses this algorithm to choose a random word from the book. Solution: http://thinkpython2.com/code/analyze_book3.py."
   ]
  },
  {
   "cell_type": "code",
   "execution_count": 2,
   "id": "40d0618a",
   "metadata": {},
   "outputs": [],
   "source": [
    "def process_file(filename, skip_header):\n",
    "    \"\"\"Makes a histogram that contains the words from a file.\n",
    "\n",
    "    filename: string\n",
    "    skip_header: boolean, whether to skip the Gutenberg header\n",
    "   \n",
    "    returns: map from each word to the number of times it appears.\n",
    "    \"\"\"\n",
    "    hist = {}\n",
    "    fp = open(filename)\n",
    "\n",
    "    if skip_header:\n",
    "        skip_gutenberg_header(fp)\n",
    "\n",
    "    for line in fp:\n",
    "        if line.startswith('*** END OF THIS'):\n",
    "            break\n",
    "\n",
    "        process_line(line, hist)\n",
    "\n",
    "    return hist\n",
    "\n",
    "def process_line(line, words):\n",
    "    line = line.replace('-', ' ')\n",
    "    \n",
    "    for word in line.split():\n",
    "        word = word.strip(string.punctuation + string.whitespace)\n",
    "        word = word.lower()\n",
    "        words.append(word)\n"
   ]
  },
  {
   "cell_type": "code",
   "execution_count": 3,
   "id": "fad80f67",
   "metadata": {},
   "outputs": [
    {
     "ename": "TypeError",
     "evalue": "process_file() missing 1 required positional argument: 'skip_header'",
     "output_type": "error",
     "traceback": [
      "\u001b[0;31m---------------------------------------------------------------------------\u001b[0m",
      "\u001b[0;31mTypeError\u001b[0m                                 Traceback (most recent call last)",
      "\u001b[0;32m<ipython-input-3-fbaa08470c18>\u001b[0m in \u001b[0;36m<module>\u001b[0;34m\u001b[0m\n\u001b[1;32m      1\u001b[0m \u001b[0;31m# Fetch the words in the book\u001b[0m\u001b[0;34m\u001b[0m\u001b[0;34m\u001b[0m\u001b[0;34m\u001b[0m\u001b[0m\n\u001b[0;32m----> 2\u001b[0;31m \u001b[0mwords\u001b[0m \u001b[0;34m=\u001b[0m \u001b[0mprocess_file\u001b[0m\u001b[0;34m(\u001b[0m\u001b[0;34m'emma.txt'\u001b[0m\u001b[0;34m)\u001b[0m\u001b[0;34m\u001b[0m\u001b[0;34m\u001b[0m\u001b[0m\n\u001b[0m",
      "\u001b[0;31mTypeError\u001b[0m: process_file() missing 1 required positional argument: 'skip_header'"
     ]
    }
   ],
   "source": [
    "# Fetch the words in the book\n",
    "words = process_file('emma.txt')"
   ]
  },
  {
   "cell_type": "code",
   "execution_count": null,
   "id": "70225214",
   "metadata": {},
   "outputs": [],
   "source": [
    "def histogram(s):\n",
    "    d = dict()\n",
    "    for c in s:\n",
    "        if c not in d:\n",
    "            d[c] = 1\n",
    "        else:\n",
    "            d[c] += 1\n",
    "    return d\n",
    "\n",
    "def cumsum_dict(d):\n",
    "    result= {}\n",
    "    sum = 0\n",
    "    for k in d.keys():\n",
    "        sum += d[k]\n",
    "        result[k] = sum\n",
    "    return result\n",
    "\n",
    "\n"
   ]
  },
  {
   "cell_type": "code",
   "execution_count": null,
   "id": "da4835fb",
   "metadata": {},
   "outputs": [],
   "source": [
    "hist = histogram(words)\n"
   ]
  },
  {
   "cell_type": "code",
   "execution_count": null,
   "id": "465afb34",
   "metadata": {},
   "outputs": [],
   "source": [
    "cum = cumsum_dict(hist)"
   ]
  },
  {
   "cell_type": "code",
   "execution_count": null,
   "id": "1b79a3b7",
   "metadata": {},
   "outputs": [],
   "source": [
    "def bisearch(lst, target):\n",
    "    sz = len(lst)\n",
    "\n",
    "    val = lambda n: lst[n]\n",
    "    \n",
    "    if sz == 0:\n",
    "        return -1\n",
    "    if sz == 1:\n",
    "        if target == val(0):\n",
    "            return 0\n",
    "        else:\n",
    "            return -1\n",
    "\n",
    "    if target < val(0) or target > val(sz-1):\n",
    "        return -1\n",
    "    if target == val(sz-1):\n",
    "        return sz - 1\n",
    "    \n",
    "    # Treat as binary search over segments not points\n",
    "    s = 0\n",
    "    e = sz - 2\n",
    "    \n",
    "    while e >= s:\n",
    "        m = (s + e)//2\n",
    "        if val(m) <= target < val(m+1):\n",
    "            return m\n",
    "        if target >= val(m+1):\n",
    "            s = m + 1\n",
    "        else:\n",
    "            e = m - 1\n",
    "    return -1"
   ]
  },
  {
   "cell_type": "code",
   "execution_count": null,
   "id": "538ba148",
   "metadata": {},
   "outputs": [],
   "source": [
    "def bisearch_dict(target, dict):\n",
    "    sz = len(dict)\n",
    "\n",
    "    keys = list(dict.keys())\n",
    "    val = lambda n: dict[keys[n]]\n",
    "    \n",
    "    if sz == 0:\n",
    "        return -1\n",
    "    if sz == 1:\n",
    "        if target == val(0):\n",
    "            return 0\n",
    "        else:\n",
    "            return -1\n",
    "\n",
    "    if target < val(0) or target > val(sz-1):\n",
    "        return -1\n",
    "    if target == val(sz-1):\n",
    "        return sz - 1\n",
    "    \n",
    "    # Treat as binary search over segments not points\n",
    "    s = 0\n",
    "    e = sz - 2\n",
    "    \n",
    "    while e >= s:\n",
    "        m = (s + e)//2\n",
    "        if val(m) <= target < val(m+1):\n",
    "            return m\n",
    "        if target >= val(m+1):\n",
    "            s = m + 1\n",
    "        else:\n",
    "            e = m - 1\n",
    "    return -1"
   ]
  },
  {
   "cell_type": "code",
   "execution_count": null,
   "id": "767ea141",
   "metadata": {},
   "outputs": [],
   "source": [
    "def testsearch(searcher, debug=True):\n",
    "\n",
    "    def dprint(str):\n",
    "        if debug:\n",
    "            print(str)\n",
    "            \n",
    "    tests = [ \n",
    "            [ 0, -1, {\"a\":1, \"b\":3, \"c\":7, \"d\":12} ], \n",
    "            [ 1,  0, {\"a\":1, \"b\":3, \"c\":7, \"d\":12} ],\n",
    "            [ 2,  0, {\"a\":1, \"b\":3, \"c\":7, \"d\":12} ],\n",
    "            [ 3,  1, {\"a\":1, \"b\":3, \"c\":7, \"d\":12} ],\n",
    "            [ 4,  1, {\"a\":1, \"b\":3, \"c\":7, \"d\":12} ],\n",
    "            [ 5,  1, {\"a\":1, \"b\":3, \"c\":7, \"d\":12} ],\n",
    "            [ 6,  1, {\"a\":1, \"b\":3, \"c\":7, \"d\":12} ],\n",
    "            [ 7,  2, {\"a\":1, \"b\":3, \"c\":7, \"d\":12} ],\n",
    "            [ 8,  2, {\"a\":1, \"b\":3, \"c\":7, \"d\":12} ],\n",
    "            [ 9,  2, {\"a\":1, \"b\":3, \"c\":7, \"d\":12} ],\n",
    "            [10,  2, {\"a\":1, \"b\":3, \"c\":7, \"d\":12} ],\n",
    "            [11,  2, {\"a\":1, \"b\":3, \"c\":7, \"d\":12} ],\n",
    "            [12,  3, {\"a\":1, \"b\":3, \"c\":7, \"d\":12} ],\n",
    "            [13, -1, {\"a\":1, \"b\":3, \"c\":7, \"d\":12} ],\n",
    "            [9.5, 2, {\"a\":1, \"b\":3, \"c\":7, \"d\":12} ],\n",
    "            [ 0, -1, {} ],\n",
    "            [ 0, -1, {\"a\":1} ],\n",
    "            [ 1,  0, {\"a\":1} ],\n",
    "            [ 2, -1, {\"a\":1} ],\n",
    "            [ 0, -1, {\"a\":1, \"b\":2} ],\n",
    "            [ 1,  0, {\"a\":1, \"b\":2} ],\n",
    "            [ 2,  1, {\"a\":1, \"b\":2} ],\n",
    "            [ 3, -1, {\"a\":1, \"b\":2} ],\n",
    "            [1.5, 0, {\"a\":1, \"b\":2} ],       \n",
    "            ]\n",
    "                    \n",
    "    for target, ans, dict in tests:\n",
    "        if searcher(target, dict) != ans:\n",
    "            warn = \">>>\"\n",
    "        else:\n",
    "            warn = \"\"\n",
    "        dprint(f\"{warn}{target= } {dict= } {searcher(target, dict)= } {ans= }\")\n",
    "        \n",
    "testsearch(bisearch_dict)"
   ]
  },
  {
   "cell_type": "code",
   "execution_count": null,
   "id": "d8c2019c",
   "metadata": {},
   "outputs": [],
   "source": [
    "def choose_from_hist2(cum):\n",
    "#     breakpoint()\n",
    "    lo = 0\n",
    "    hi = list(cum.values())[-1] - 1\n",
    "    \n",
    "    n = random.randint(lo, hi)\n",
    "    key = bisearch_dict(n, cum) - 1\n",
    "    val = list(cum.keys())[key]\n",
    "#     print()\n",
    "    return val\n",
    "\n",
    "def gen_sample2(hist, n):\n",
    "    sample = []\n",
    "    for m in range(n):\n",
    "        l = choose_from_hist2(hist)\n",
    "        sample.append(l)\n",
    "    \n",
    "    return sample\n",
    "\n",
    "n = 1000\n",
    "t = ['a', 'a', 'b']\n",
    "hist_test = histogram(t)\n",
    "cum_hist_test = cumsum_dict(hist_test)\n",
    "\n",
    "print(f\"Generated histogram for {n} trials\")\n",
    "sample = gen_sample2(cum_hist_test, n)\n",
    "\n",
    "sample_hist = histogram(sample)\n",
    "print(f\"{sample_hist['a']/(sample_hist['a']+sample_hist['b']):.2%}\")"
   ]
  },
  {
   "cell_type": "code",
   "execution_count": null,
   "id": "e36a44f3",
   "metadata": {},
   "outputs": [],
   "source": [
    "for w in gen_sample2(cum, 100):\n",
    "    print(w, end=\" \")"
   ]
  },
  {
   "cell_type": "code",
   "execution_count": null,
   "id": "79a0c738",
   "metadata": {},
   "outputs": [],
   "source": []
  }
 ],
 "metadata": {
  "kernelspec": {
   "display_name": "Python 3",
   "language": "python",
   "name": "python3"
  },
  "language_info": {
   "codemirror_mode": {
    "name": "ipython",
    "version": 3
   },
   "file_extension": ".py",
   "mimetype": "text/x-python",
   "name": "python",
   "nbconvert_exporter": "python",
   "pygments_lexer": "ipython3",
   "version": "3.8.8"
  }
 },
 "nbformat": 4,
 "nbformat_minor": 5
}
