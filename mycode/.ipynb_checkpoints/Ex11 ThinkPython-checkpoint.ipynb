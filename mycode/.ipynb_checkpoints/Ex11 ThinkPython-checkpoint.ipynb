{
 "cells": [
  {
   "cell_type": "code",
   "execution_count": 1,
   "metadata": {},
   "outputs": [],
   "source": [
    "import pandas as pd, math, re, collections\n",
    "from random import randint\n"
   ]
  },
  {
   "cell_type": "markdown",
   "metadata": {},
   "source": [
    "As an exercise, use get to write histogram more concisely. You should be able to eliminate the if statement."
   ]
  },
  {
   "cell_type": "code",
   "execution_count": 2,
   "metadata": {},
   "outputs": [
    {
     "data": {
      "text/plain": [
       "{'b': 1, 'r': 2, 'o': 2, 'n': 1, 't': 1, 's': 2, 'a': 1, 'u': 2}"
      ]
     },
     "execution_count": 2,
     "metadata": {},
     "output_type": "execute_result"
    }
   ],
   "source": [
    "# Original\n",
    "def histogram(s):\n",
    "    d = dict()\n",
    "    for c in s:\n",
    "        if c not in d:\n",
    "            d[c] = 1\n",
    "        else:\n",
    "            d[c] += 1\n",
    "    return d\n",
    "\n",
    "\n",
    "histogram('brontosaurus')"
   ]
  },
  {
   "cell_type": "code",
   "execution_count": 3,
   "metadata": {},
   "outputs": [
    {
     "data": {
      "text/plain": [
       "{'b': 1, 'r': 2, 'o': 2, 'n': 1, 't': 1, 's': 2, 'a': 1, 'u': 2}"
      ]
     },
     "execution_count": 3,
     "metadata": {},
     "output_type": "execute_result"
    }
   ],
   "source": [
    "# Rewritten to eliminate if statement using d.get(key, <what to use instead>)\n",
    "def xhistogram(s):\n",
    "    d = dict()\n",
    "    for c in s:\n",
    "        d [c] = d.get(c, 0) + 1\n",
    "    return d\n",
    "\n",
    "xhistogram('brontosaurus')"
   ]
  },
  {
   "cell_type": "code",
   "execution_count": 4,
   "metadata": {},
   "outputs": [
    {
     "data": {
      "text/plain": [
       "{'a': 1, 'b': 2, 'c': 1}"
      ]
     },
     "execution_count": 4,
     "metadata": {},
     "output_type": "execute_result"
    }
   ],
   "source": [
    "# from collections import defaultdict\n",
    "d = {}\n",
    "for c in \"abcb\":\n",
    "    d[c] = d.get(c,0) + 1\n",
    "d"
   ]
  },
  {
   "cell_type": "code",
   "execution_count": 5,
   "metadata": {},
   "outputs": [
    {
     "data": {
      "text/plain": [
       "{'a': 'a', 'b': 1}"
      ]
     },
     "execution_count": 5,
     "metadata": {},
     "output_type": "execute_result"
    }
   ],
   "source": [
    "dict(a=\"a\", b=1)"
   ]
  },
  {
   "cell_type": "code",
   "execution_count": 6,
   "metadata": {},
   "outputs": [],
   "source": [
    "# d['f'] = d.get('f', list).append('5')\n",
    "# TypeError                                 Traceback (most recent call last)\n",
    "# <ipython-input-16-1e9579882f1c> in <module>\n",
    "# ----> 1 d['f'] = d.get('f', list).append('5')\n",
    "\n",
    "# TypeError: descriptor 'append' for 'list' objects doesn't apply to a 'str' object"
   ]
  },
  {
   "cell_type": "code",
   "execution_count": 7,
   "metadata": {},
   "outputs": [
    {
     "data": {
      "text/plain": [
       "{'a': 1, 'b': 2, 'c': 1}"
      ]
     },
     "execution_count": 7,
     "metadata": {},
     "output_type": "execute_result"
    }
   ],
   "source": [
    "d"
   ]
  },
  {
   "cell_type": "code",
   "execution_count": 8,
   "metadata": {},
   "outputs": [],
   "source": [
    "# del words"
   ]
  },
  {
   "cell_type": "markdown",
   "metadata": {},
   "source": [
    "## Ex 11.1  \n",
    "Write a function that reads the words in words.txt and stores them as keys in a dictionary. It doesn’t matter what the values are. Then you can use the in operator as a fast way to check whether a string is in the dictionary.\n",
    "\n",
    "If you did Exercise 10, you can compare the speed of this implementation with the list in operator and the bisection search.\n"
   ]
  },
  {
   "cell_type": "code",
   "execution_count": 9,
   "metadata": {},
   "outputs": [],
   "source": [
    "# Read this once to use throughout the rest of the exercises\n",
    "with open(\"words.txt\") as fin:\n",
    "    words = [ w.rstrip() for w in fin.readlines() ]\n",
    "   "
   ]
  },
  {
   "cell_type": "code",
   "execution_count": 10,
   "metadata": {},
   "outputs": [
    {
     "name": "stdout",
     "output_type": "stream",
     "text": [
      "0 aa\n",
      "1 aah\n",
      "2 aahed\n",
      "3 aahing\n",
      "4 aahs\n",
      "5 aal\n",
      "6 aalii\n",
      "7 aaliis\n",
      "8 aals\n",
      "9 aardvark\n",
      "10 aardvarks\n",
      "11 aardwolf\n"
     ]
    }
   ],
   "source": [
    "for i, w in enumerate(words):\n",
    "    print (i, w)\n",
    "    if i>10:\n",
    "        break"
   ]
  },
  {
   "cell_type": "markdown",
   "metadata": {},
   "source": [
    "```\n",
    "trial_target = \"vnht\"\n",
    "print(\"in:         Builtin operator\")\n",
    "%timeit  trial_target in words\n",
    "print(\"xin_bisect: Recursive\")\n",
    "%timeit  xin_bisect(trial_target, words)\n",
    "print(\"in_bisect:  move pointers to same list\")\n",
    "%timeit  in_bisect(trial_target, words)\n",
    "print(\"bisearch:   move pointers to same list, recursive calls\")\n",
    "%timeit  bisearch(trial_target, words, 0, len(trial_target)-1)\n",
    "\n",
    "in:         Builtin operator\n",
    "1.05 ms ± 5.57 µs per loop (mean ± std. dev. of 7 runs, 1000 loops each)\n",
    "xin_bisect: Recursive\n",
    "391 µs ± 27.4 µs per loop (mean ± std. dev. of 7 runs, 1000 loops each)\n",
    "in_bisect:  move pointers to same list\n",
    "2.43 µs ± 25.8 ns per loop (mean ± std. dev. of 7 runs, 100000 loops each)\n",
    "bisearch:   move pointers to same list, recursive calls\n",
    "568 ns ± 1.84 ns per loop (mean ± std. dev. of 7 runs, 1000000 loops each)\n",
    "```"
   ]
  },
  {
   "cell_type": "code",
   "execution_count": 11,
   "metadata": {},
   "outputs": [
    {
     "name": "stdout",
     "output_type": "stream",
     "text": [
      "1.06 ms ± 9.29 µs per loop (mean ± std. dev. of 7 runs, 1000 loops each)\n"
     ]
    }
   ],
   "source": [
    "%timeit \"vnht\" in words"
   ]
  },
  {
   "cell_type": "markdown",
   "metadata": {},
   "source": [
    "See that it's time of 22.1 ns is 26x faster than the best bisearch of 568 ns"
   ]
  },
  {
   "cell_type": "markdown",
   "metadata": {},
   "source": [
    "## Ex 11.2  \n",
    "Read the documentation of the dictionary method setdefault and use it to write a more concise version of invert_dict. Solution: http://thinkpython2.com/code/invert_dict.py."
   ]
  },
  {
   "cell_type": "code",
   "execution_count": 12,
   "metadata": {},
   "outputs": [],
   "source": [
    "# Original version\n",
    "def invert_dict(d):\n",
    "    inverse = dict()\n",
    "    for key in d:\n",
    "        val = d[key]\n",
    "        if val not in inverse:\n",
    "            inverse[val] = [key]\n",
    "        else:\n",
    "            inverse[val].append(key)\n",
    "    return inverse"
   ]
  },
  {
   "cell_type": "code",
   "execution_count": 13,
   "metadata": {},
   "outputs": [],
   "source": [
    "# New version using setdefault\n",
    "# Point here is make the value for \"key\" a list so new value can be appended\n",
    "def new_invert_dict(d):\n",
    "    inverse = dict()\n",
    "    for key in d:\n",
    "        val = d[key]\n",
    "        inverse.setdefault(val, []).append(key)\n",
    "    return inverse"
   ]
  },
  {
   "cell_type": "code",
   "execution_count": 14,
   "metadata": {},
   "outputs": [],
   "source": [
    "# Use collections\n",
    "from collections import defaultdict\n",
    "def defaultdict_invert_dict(d):\n",
    "    inverse = defaultdict(list)\n",
    "    for key in d:\n",
    "        val = d[key]\n",
    "        inverse[val].append(key)\n",
    "    return inverse"
   ]
  },
  {
   "cell_type": "code",
   "execution_count": 15,
   "metadata": {},
   "outputs": [],
   "source": [
    "def test(invert_dict):\n",
    "    if __name__ == '__main__':\n",
    "#         print(\"\\n\",invert_dict.__name__)\n",
    "        d = dict(a=1, b=2, c=3, z=1)\n",
    "        inverse = invert_dict(d)\n",
    "        for val in inverse:\n",
    "            keys = inverse[val]\n",
    "#             print(val, keys)\n"
   ]
  },
  {
   "cell_type": "code",
   "execution_count": 16,
   "metadata": {},
   "outputs": [
    {
     "name": "stdout",
     "output_type": "stream",
     "text": [
      "797 ns ± 10.2 ns per loop (mean ± std. dev. of 7 runs, 1000000 loops each)\n",
      "864 ns ± 2.41 ns per loop (mean ± std. dev. of 7 runs, 1000000 loops each)\n",
      "1.06 µs ± 19.4 ns per loop (mean ± std. dev. of 7 runs, 1000000 loops each)\n"
     ]
    }
   ],
   "source": [
    "%timeit test(invert_dict)\n",
    "%timeit test(new_invert_dict)\n",
    "%timeit test(defaultdict_invert_dict)\n"
   ]
  },
  {
   "cell_type": "markdown",
   "metadata": {},
   "source": [
    "**CONCLUSION** Hard way is fastest, but they are all sort of close. defaultdict is 20-25% slower"
   ]
  },
  {
   "cell_type": "markdown",
   "metadata": {},
   "source": [
    "## Ex 10.3\n",
    "Memoize the Ackermann function from Exercise 2 and see if memoization makes it possible to evaluate the function with bigger arguments. Hint: no. Solution: http://thinkpython2.com/code/ackermann_memo.py."
   ]
  },
  {
   "cell_type": "code",
   "execution_count": 17,
   "metadata": {},
   "outputs": [
    {
     "name": "stdout",
     "output_type": "stream",
     "text": [
      "766 µs ± 2.76 µs per loop (mean ± std. dev. of 7 runs, 1000 loops each)\n",
      "ack(3, 4) = 125\n"
     ]
    }
   ],
   "source": [
    "# Old Ackermann\n",
    "# Ex 6.2 Ackerman\n",
    "def ack(m, n):\n",
    "    \n",
    "# Assume m and n are in proper range\n",
    "#     if ( not isinstance(n, int) \\\n",
    "#         or not isinstance(n, int) ) \\\n",
    "#         or m < 0 \\\n",
    "#         or n < 0:\n",
    "#         print(\"Please use whole numbers, m>=0 and n>=0.\")\n",
    "#         return\n",
    "        \n",
    "    if m == 0:\n",
    "        return n+1\n",
    "    if n == 0:\n",
    "        return ack(m-1, 1)\n",
    "    return ack(m-1, ack(m, n-1))\n",
    "\n",
    "m = 3\n",
    "n = 4\n",
    "\n",
    "%timeit ack(m, n)\n",
    "print(f\"ack({m}, {n}) = {ack(m,n)}\")\n"
   ]
  },
  {
   "cell_type": "code",
   "execution_count": 18,
   "metadata": {},
   "outputs": [],
   "source": [
    "known = {}"
   ]
  },
  {
   "cell_type": "code",
   "execution_count": 19,
   "metadata": {},
   "outputs": [
    {
     "name": "stdout",
     "output_type": "stream",
     "text": [
      "776 µs ± 10.1 µs per loop (mean ± std. dev. of 7 runs, 1000 loops each)\n",
      "mack(3, 4) = 125\n"
     ]
    }
   ],
   "source": [
    "def mack(m, n):\n",
    "    \n",
    "    if (m,n) in known:\n",
    "        return known[(m,n)]\n",
    "    \n",
    "    if m == 0:\n",
    "        result = n+1\n",
    "        known[m, result] = result\n",
    "        return result\n",
    "    \n",
    "    if n == 0:\n",
    "        result = ack(m-1, 1)\n",
    "        known[m, result] = result       \n",
    "        return result\n",
    "    \n",
    "    result = ack(m-1, ack(m, n-1))\n",
    "    known[m, result] = result       \n",
    "    return result\n",
    "\n",
    "m = 3\n",
    "n = 4\n",
    "%timeit v = mack(m, n)\n",
    "print(f\"mack({m}, {n}) = {mack(m,n)}\")"
   ]
  },
  {
   "cell_type": "code",
   "execution_count": 20,
   "metadata": {},
   "outputs": [],
   "source": [
    "# %timeit v = mack(4, 5)\n",
    "# print(f\"mack({m}, {n}) = {v}\")\n",
    "\n",
    "# RecursionError: maximum recursion depth exceeded in comparison"
   ]
  },
  {
   "cell_type": "markdown",
   "metadata": {},
   "source": [
    "## Ex 10.4  \n",
    "If you did Exercise 7, you already have a function named has_duplicates that takes a list as a parameter and returns True if there is any object that appears more than once in the list.\n",
    "\n",
    "Use a dictionary to write a faster, simpler version of has_duplicates. Solution: http://thinkpython2.com/code/has_duplicates.py."
   ]
  },
  {
   "cell_type": "code",
   "execution_count": 21,
   "metadata": {},
   "outputs": [],
   "source": [
    "# From Ex 10.7\n",
    "def has_duplicates(lst):\n",
    "    if len(lst) < 2:\n",
    "        return False\n",
    "    if lst[0] in lst[1:]:\n",
    "        return True\n",
    "    return has_duplicates(lst[1:])"
   ]
  },
  {
   "cell_type": "code",
   "execution_count": 22,
   "metadata": {},
   "outputs": [],
   "source": [
    "def has_duplicates1(lst):\n",
    "    if len(lst) < 2:\n",
    "        return False\n",
    "    if lst[0] in lst[1:]:\n",
    "        return True\n",
    "    return has_duplicates1(lst[1:])"
   ]
  },
  {
   "cell_type": "code",
   "execution_count": 23,
   "metadata": {},
   "outputs": [],
   "source": [
    "def has_duplicates2(lst):\n",
    "    def hd(lst, s):\n",
    "        if s == e:\n",
    "            return False\n",
    "        if lst[s] == lst[s+1]:\n",
    "            return True\n",
    "        return hd(lst, s+1)\n",
    "    e = len(lst)-1           \n",
    "    if e < 1:\n",
    "        return False\n",
    "    return hd(lst, 0)"
   ]
  },
  {
   "cell_type": "code",
   "execution_count": 24,
   "metadata": {},
   "outputs": [],
   "source": [
    "def has_duplicates3(lst):\n",
    "    for i in range(len(lst)):\n",
    "        if lst[i] in lst[i+1:]:\n",
    "            return True\n",
    "    return False\n",
    "\n",
    "        "
   ]
  },
  {
   "cell_type": "code",
   "execution_count": 25,
   "metadata": {},
   "outputs": [],
   "source": [
    "def has_duplicates4(lst):\n",
    "    found = {}\n",
    "    for v in lst:\n",
    "        if v in found:\n",
    "            return True\n",
    "        else:\n",
    "            found[v] = 1\n",
    "    return False\n",
    "\n",
    "        "
   ]
  },
  {
   "cell_type": "code",
   "execution_count": 26,
   "metadata": {},
   "outputs": [],
   "source": [
    "def has_duplicates5(lst):\n",
    "    return len(set(lst)) == len(lst)"
   ]
  },
  {
   "cell_type": "code",
   "execution_count": 27,
   "metadata": {},
   "outputs": [],
   "source": [
    "import random\n",
    "random.seed(0)  # Uniform results\n",
    "mx = 1000\n",
    "f = 100\n",
    "lst = [random.randint(0, f*mx) for i in range(mx)]\n"
   ]
  },
  {
   "cell_type": "code",
   "execution_count": 28,
   "metadata": {},
   "outputs": [
    {
     "name": "stdout",
     "output_type": "stream",
     "text": [
      "11.6 µs ± 0 ns per loop (mean ± std. dev. of 1 run, 10 loops each)\n"
     ]
    }
   ],
   "source": [
    "%timeit -n 10 -r 1 has_duplicates4(lst)"
   ]
  },
  {
   "cell_type": "code",
   "execution_count": 29,
   "metadata": {},
   "outputs": [
    {
     "name": "stdout",
     "output_type": "stream",
     "text": [
      "1.63 ms ± 0 ns per loop (mean ± std. dev. of 1 run, 10 loops each)\n"
     ]
    }
   ],
   "source": [
    "%timeit -n 10 -r 1 has_duplicates(lst)"
   ]
  },
  {
   "cell_type": "code",
   "execution_count": 30,
   "metadata": {},
   "outputs": [
    {
     "name": "stdout",
     "output_type": "stream",
     "text": [
      "18.7 µs ± 0 ns per loop (mean ± std. dev. of 1 run, 10 loops each)\n"
     ]
    }
   ],
   "source": [
    "%timeit -n 10 -r 1 has_duplicates5(lst)"
   ]
  },
  {
   "cell_type": "code",
   "execution_count": 31,
   "metadata": {},
   "outputs": [
    {
     "data": {
      "text/plain": [
       "True"
      ]
     },
     "execution_count": 31,
     "metadata": {},
     "output_type": "execute_result"
    }
   ],
   "source": [
    "has_duplicates(lst)"
   ]
  },
  {
   "cell_type": "code",
   "execution_count": 32,
   "metadata": {},
   "outputs": [
    {
     "name": "stdout",
     "output_type": "stream",
     "text": [
      "8697 8697\n",
      "16295 16295\n",
      "19840 19840\n",
      "28675 28675\n",
      "61720 61720\n",
      "74379 74379\n",
      "91661 91661\n",
      "99876 99876\n"
     ]
    }
   ],
   "source": [
    "t = sorted(lst)\n",
    "for i in range(len(t)-1):\n",
    "    if t[i] == t[i+1]:\n",
    "        print(t[i], t[i+1])\n",
    "    "
   ]
  },
  {
   "cell_type": "markdown",
   "metadata": {},
   "source": [
    "## Ex 11.5  \n",
    "Two words are “rotate pairs” if you can rotate one of them and get the other (see rotate_word in Exercise 5).\n",
    "\n",
    "Write a program that reads a wordlist and finds all the rotate pairs. Solution:"
   ]
  },
  {
   "cell_type": "code",
   "execution_count": 33,
   "metadata": {},
   "outputs": [],
   "source": [
    "def rotate(ch, r=0):\n",
    "    if not ch.isalpha():\n",
    "        return ch\n",
    "    \n",
    "    if ch.islower():\n",
    "        return chr((ord(ch)-ord(\"a\")+r)%26+ord(\"a\"))\n",
    "    else:\n",
    "        return chr((ord(ch)-ord(\"A\")+r)%26+ord(\"A\"))\n",
    "    \n",
    "def rotate_word(str, r=0):\n",
    "    result = \"\"\n",
    "    for c in str:\n",
    "        result += rotate(c, r)\n",
    "    return result\n",
    "\n",
    "def look_rotated(mx=20):\n",
    "\n",
    "    rotated = {}\n",
    "        \n",
    "    c = 0\n",
    "\n",
    "    for i, word in enumerate(words):\n",
    "        \n",
    "        for n in range(1, 26):\n",
    "            trial = rotate_word(word, r=n)\n",
    "            if trial in words:\n",
    "                rotated.setdefault(word, []).append((n, trial))\n",
    "\n",
    "        c += 1\n",
    "        if c > mx:\n",
    "            break\n",
    "    return rotated\n",
    "\n",
    "\n",
    "    "
   ]
  },
  {
   "cell_type": "code",
   "execution_count": 34,
   "metadata": {},
   "outputs": [
    {
     "data": {
      "text/plain": [
       "{'aah': [(4, 'eel')],\n",
       " 'aba': [(19, 'tut')],\n",
       " 'abet': [(7, 'hila')],\n",
       " 'abjurer': [(13, 'nowhere')],\n",
       " 'abo': [(4, 'efs'), (13, 'nob')],\n",
       " 'aby': [(3, 'deb'), (25, 'zax')],\n",
       " 'ache': [(6, 'gink')],\n",
       " 'act': [(24, 'yar')],\n",
       " 'acts': [(18, 'sulk')]}"
      ]
     },
     "execution_count": 34,
     "metadata": {},
     "output_type": "execute_result"
    }
   ],
   "source": [
    "look_rotated(mx=1000)"
   ]
  },
  {
   "cell_type": "markdown",
   "metadata": {},
   "source": [
    "## Ex 11.6  \n",
    "Here’s another Puzzler from Car Talk (http://www.cartalk.com/content/puzzlers):\n",
    "\n",
    "This was sent in by a fellow named Dan O’Leary. He came upon a common one-syllable, five-letter word recently that has the following unique property. When you remove the first letter, the remaining letters form a homophone of the original word, that is a word that sounds exactly the same. Replace the first letter, that is, put it back and remove the second letter and the result is yet another homophone of the original word. And the question is, what’s the word?\n",
    "Now I’m going to give you an example that doesn’t work. Let’s look at the five-letter word, ‘wrack.’ W-R-A-C-K, you know like to ‘wrack with pain.’ If I remove the first letter, I am left with a four-letter word, ’R-A-C-K.’ As in, ‘Holy cow, did you see the rack on that buck! It must have been a nine-pointer!’ It’s a perfect homophone. If you put the ‘w’ back, and remove the ‘r,’ instead, you’re left with the word, ‘wack,’ which is a real word, it’s just not a homophone of the other two words.\n",
    "\n",
    "But there is, however, at least one word that Dan and we know of, which will yield two homophones if you remove either of the first two letters to make two, new four-letter words. The question is, what’s the word?\n",
    "\n",
    "\n",
    "You can use the dictionary from Exercise 1 to check whether a string is in the word list.\n",
    "\n",
    "To check whether two words are homophones, you can use the CMU Pronouncing Dictionary. You can download it from http://www.speech.cs.cmu.edu/cgi-bin/cmudict or from http://thinkpython2.com/code/c06d and you can also download http://thinkpython2.com/code/pronounce.py, which provides a function named read_dictionary that reads the pronouncing dictionary and returns a Python dictionary that maps from each word to a string that describes its primary pronunciation.\n",
    "\n",
    "Write a program that lists all the words that solve the Puzzler. Solution: http://thinkpython2.com/code/homophone.py."
   ]
  },
  {
   "cell_type": "code",
   "execution_count": 37,
   "metadata": {},
   "outputs": [],
   "source": [
    "import importlib.util\n",
    "spec = importlib.util.spec_from_file_location(\"pronounce.py\", \\\n",
    "         \"../code/pronounce.py\")\n",
    "#          \"/home/bkrawchuk/notebooks/ThinkPython2/code/pronounce.py\")\n",
    "pronounce = importlib.util.module_from_spec(spec)\n",
    "spec.loader.exec_module(pronounce)\n",
    "\n"
   ]
  },
  {
   "cell_type": "code",
   "execution_count": 38,
   "metadata": {},
   "outputs": [
    {
     "name": "stdout",
     "output_type": "stream",
     "text": [
      "eerie:(IH1 R IY0) erie:(IH1 R IY0) erie:(IH1 R IY0)\n",
      "llama:(L AA1 M AH0) lama:(L AA1 M AH0) lama:(L AA1 M AH0)\n",
      "llano:(L AA1 N OW0) lano:(L AA1 N OW0) lano:(L AA1 N OW0)\n",
      "scent:(S EH1 N T) cent:(S EH1 N T) sent:(S EH1 N T)\n",
      "113782\n"
     ]
    }
   ],
   "source": [
    "mx = 200000\n",
    "\n",
    "soundslike = pronounce.read_dictionary()\n",
    "\n",
    "def get_3words(word):\n",
    "    return [ word, word[1:], word[0] + word[2:] ]\n",
    "\n",
    "def get_sounds(word, length=5):\n",
    "    if len(word) != length:\n",
    "        return\n",
    "    w = get_3words(word)\n",
    "    if w[0] in soundslike:\n",
    "        if w[1] in soundslike:\n",
    "            if w[2] in soundslike:\n",
    "                return [soundslike[x] for x in w]\n",
    "    return None\n",
    "\n",
    "\n",
    "for i, word in enumerate(words):\n",
    "    if i > mx:\n",
    "        break\n",
    "    s = get_sounds(word, length=5)\n",
    "    if s:\n",
    "        if s[0] == s[1] == s[2]:\n",
    "            w = get_3words(word)\n",
    "            print(f\"{w[0]}:({s[0]})\", f\"{w[1]}:({s[1]})\", f\"{w[2]}:({s[2]})\")\n",
    "print(i)"
   ]
  },
  {
   "cell_type": "code",
   "execution_count": null,
   "metadata": {},
   "outputs": [],
   "source": []
  }
 ],
 "metadata": {
  "kernelspec": {
   "display_name": "Python [conda env:root] *",
   "language": "python",
   "name": "conda-root-py"
  },
  "language_info": {
   "codemirror_mode": {
    "name": "ipython",
    "version": 3
   },
   "file_extension": ".py",
   "mimetype": "text/x-python",
   "name": "python",
   "nbconvert_exporter": "python",
   "pygments_lexer": "ipython3",
   "version": "3.8.5"
  }
 },
 "nbformat": 4,
 "nbformat_minor": 4
}
