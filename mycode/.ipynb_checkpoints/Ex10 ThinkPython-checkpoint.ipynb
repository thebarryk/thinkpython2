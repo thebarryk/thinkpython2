{
 "cells": [
  {
   "cell_type": "code",
   "execution_count": 1,
   "metadata": {},
   "outputs": [],
   "source": [
    "import pandas as pd, math, re, collections\n",
    "from random import randint"
   ]
  },
  {
   "cell_type": "markdown",
   "metadata": {},
   "source": [
    "## Ex 10.1  \n",
    "*Write a function called nested_sum that takes a list of lists of integers and adds up the elements from all of the nested lists. For example:*\n",
    "```\n",
    ">>> t = [[1, 2], [3], [4, 5, 6]]\n",
    ">>> nested_sum(t)\n",
    "21\n",
    "```"
   ]
  },
  {
   "cell_type": "code",
   "execution_count": 2,
   "metadata": {},
   "outputs": [
    {
     "name": "stdout",
     "output_type": "stream",
     "text": [
      "21\n",
      "0\n",
      "5\n"
     ]
    }
   ],
   "source": [
    "def nested_sum(lst):\n",
    "    sum = 0\n",
    "    for l in lst:\n",
    "        if isinstance(l, list):\n",
    "            sum += nested_sum(l)\n",
    "        else:\n",
    "            sum += l\n",
    "    return sum\n",
    "        \n",
    "ts = [\n",
    "    [[1, 2], [3], [4, 5, 6]],\n",
    "    [], \n",
    "    [1,1,3],\n",
    "]\n",
    "for t in ts:\n",
    "    print(nested_sum(t))"
   ]
  },
  {
   "cell_type": "markdown",
   "metadata": {},
   "source": [
    "## Ex 10.2  \n",
    "*Write a function called cumsum that takes a list of numbers and returns the cumulative sum; that is, a new list where the ith element is the sum of the first i+1 elements from the original list. For example:*\n",
    "```\n",
    ">>> t = [1, 2, 3]\n",
    ">>> cumsum(t)\n",
    "[1, 3, 6]\n",
    "```"
   ]
  },
  {
   "cell_type": "code",
   "execution_count": 3,
   "metadata": {},
   "outputs": [
    {
     "name": "stdout",
     "output_type": "stream",
     "text": [
      "[1, 3, 6, 10, 15, 21]\n",
      "[]\n",
      "[1, 2, 5]\n"
     ]
    }
   ],
   "source": [
    "def cumsum(lst):\n",
    "    sums= []\n",
    "    sum = 0\n",
    "    for l in lst:\n",
    "        sum += l\n",
    "        sums.append(sum)\n",
    "    return sums\n",
    "#     return pd.DataFrame(sums, index=[0])\n",
    "\n",
    "ts = [\n",
    "    [1, 2, 3, 4, 5, 6],\n",
    "    [], \n",
    "    [1,1,3],\n",
    "]\n",
    "for t in ts:\n",
    "    print(cumsum(t))"
   ]
  },
  {
   "cell_type": "markdown",
   "metadata": {},
   "source": [
    "## Ex 10.3  \n",
    "*Write a function called middle that takes a list and returns a new list that contains all but the first and last elements. For example:*\n",
    "```\n",
    ">>> t = [1, 2, 3, 4]\n",
    ">>> middle(t)\n",
    "[2, 3]\n",
    "```"
   ]
  },
  {
   "cell_type": "code",
   "execution_count": 4,
   "metadata": {},
   "outputs": [
    {
     "name": "stdout",
     "output_type": "stream",
     "text": [
      "[1, 2, 3, 4, 5, 6] [2, 3, 4, 5]\n",
      "[] []\n",
      "[1, 1, 3] [1]\n"
     ]
    }
   ],
   "source": [
    "def middle(lst):\n",
    "    return lst[1:-1]\n",
    "\n",
    "ts = [\n",
    "    [1, 2, 3, 4, 5, 6],\n",
    "    [], \n",
    "    [1,1,3],\n",
    "]\n",
    "for t in ts:\n",
    "    print(t, middle(t))"
   ]
  },
  {
   "cell_type": "markdown",
   "metadata": {},
   "source": [
    "## Ex 10.4  \n",
    "Write a function called chop that takes a list, modifies it by removing the first and last elements, and returns None. For example:\n",
    "```\n",
    ">>> t = [1, 2, 3, 4]\n",
    ">>> chop(t)\n",
    ">>> t\n",
    "[2, 3]\n",
    "```"
   ]
  },
  {
   "cell_type": "code",
   "execution_count": 5,
   "metadata": {},
   "outputs": [
    {
     "name": "stdout",
     "output_type": "stream",
     "text": [
      "[1, 2, 3, 4, 5, 6] [2, 3, 4, 5]\n",
      "[] []\n",
      "[1, 1, 3] [1]\n"
     ]
    }
   ],
   "source": [
    "def chop(lst):\n",
    "    if len(lst)>0:\n",
    "        del lst[0]\n",
    "    if len(lst)>0: \n",
    "        del lst[-1]\n",
    "\n",
    "ts = [\n",
    "    [1, 2, 3, 4, 5, 6],\n",
    "    [], \n",
    "    [1,1,3],\n",
    "]\n",
    "for t in ts:\n",
    "    x = t[:]\n",
    "    chop(t)\n",
    "    print(x, t)"
   ]
  },
  {
   "cell_type": "markdown",
   "metadata": {},
   "source": [
    "## Ex 10.5   \n",
    "Write a function called is_sorted that takes a list as a parameter and returns True if the list is sorted in ascending order and False otherwise. For example:\n",
    "```\n",
    ">>> is_sorted([1, 2, 2])\n",
    "True\n",
    ">>> is_sorted(['b', 'a'])\n",
    "False\n",
    "```"
   ]
  },
  {
   "cell_type": "code",
   "execution_count": 6,
   "metadata": {},
   "outputs": [
    {
     "name": "stdout",
     "output_type": "stream",
     "text": [
      "[1, 2, 3, 4, 5, 6] True\n",
      "[] True\n",
      "[1, 1, 3] True\n",
      "[1, 3, 1] None\n",
      "[3, 2, 1] False\n"
     ]
    }
   ],
   "source": [
    "def is_sorted(lst):\n",
    "    def increasing(lst):\n",
    "        for i in range(1,len(lst)):\n",
    "            if lst[i-1] > lst[i]:\n",
    "                return False\n",
    "        return True\n",
    "\n",
    "    def decreasing(lst):\n",
    "        for i in range(1,len(lst)):\n",
    "            if lst[i-1] < lst[i]:\n",
    "                return False\n",
    "        return True\n",
    "                      \n",
    "    if len(lst) < 2:\n",
    "        return True\n",
    "\n",
    "    if increasing(lst):\n",
    "        return True\n",
    "    elif decreasing(lst):\n",
    "        return False\n",
    "    else:\n",
    "        return\n",
    "ts = [\n",
    "    [1, 2, 3, 4, 5, 6],\n",
    "    [], \n",
    "    [1,1,3],\n",
    "    [1,3,1],\n",
    "    [3,2,1],\n",
    "]\n",
    "for t in ts:\n",
    "    b = is_sorted(t)\n",
    "    print(t, b)"
   ]
  },
  {
   "cell_type": "markdown",
   "metadata": {},
   "source": [
    "## EX 10.6  \n",
    "Two words are anagrams if you can rearrange the letters from one to spell the other. Write a function called is_anagram that takes two strings and returns True if they are anagrams."
   ]
  },
  {
   "cell_type": "code",
   "execution_count": 7,
   "metadata": {},
   "outputs": [],
   "source": [
    "def is_anagram(word1, word2):\n",
    "    # sort the two lists and compare\n",
    "    if len(word1) != len(word2):\n",
    "        return False\n",
    "    return sorted(word1) == sorted(word2) "
   ]
  },
  {
   "cell_type": "code",
   "execution_count": 8,
   "metadata": {},
   "outputs": [
    {
     "name": "stdout",
     "output_type": "stream",
     "text": [
      "drug grdu True\n",
      "drug apple False\n",
      "ales sale True\n",
      "lists silts True\n"
     ]
    }
   ],
   "source": [
    "ts = [\n",
    "    [\"drug\", \"grdu\"],\n",
    "    [\"drug\", \"apple\"],\n",
    "    [\"ales\", \"sale\"],\n",
    "    [\"lists\", \"silts\"]\n",
    "]\n",
    "for w0, w1 in ts:\n",
    "    print(w0, w1, is_anagram(w0, w1))"
   ]
  },
  {
   "cell_type": "code",
   "execution_count": 9,
   "metadata": {},
   "outputs": [
    {
     "data": {
      "text/plain": [
       "['a', 'e', 'l', 'p', 'p']"
      ]
     },
     "execution_count": 9,
     "metadata": {},
     "output_type": "execute_result"
    }
   ],
   "source": [
    "sorted(\"apple\")"
   ]
  },
  {
   "cell_type": "markdown",
   "metadata": {},
   "source": [
    "## Ex 10.7  \n",
    "Write a function called has_duplicates that takes a list and returns True if there is any element that appears more than once. It should not modify the original list."
   ]
  },
  {
   "cell_type": "code",
   "execution_count": 10,
   "metadata": {},
   "outputs": [
    {
     "name": "stdout",
     "output_type": "stream",
     "text": [
      "[1, 2, 3, 4, 5, 6] False\n",
      "[] False\n",
      "[1, 1, 3] True\n",
      "[1, 3, 1] True\n",
      "[3, 2, 1] False\n"
     ]
    }
   ],
   "source": [
    "def has_duplicates(lst):\n",
    "    if len(lst) < 2:\n",
    "        return False\n",
    "    if lst[0] in lst[1:]:\n",
    "        return True\n",
    "    return has_duplicates(lst[1:])\n",
    "\n",
    "ts = [\n",
    "    [1, 2, 3, 4, 5, 6],\n",
    "    [], \n",
    "    [1,1,3],\n",
    "    [1,3,1],\n",
    "    [3,2,1],\n",
    "]\n",
    "for t in ts:\n",
    "    print(t, has_duplicates(t))\n",
    "    \n",
    "def ask(t, fn):\n",
    "    if len(t) <=0:\n",
    "        return\n",
    "    print(t[0], fn(t[0]))\n",
    "    ask(t[1:], fn)\n",
    "    "
   ]
  },
  {
   "cell_type": "code",
   "execution_count": 11,
   "metadata": {},
   "outputs": [
    {
     "name": "stdout",
     "output_type": "stream",
     "text": [
      "[1, 2, 3, 4, 5, 6] False\n",
      "[] False\n",
      "[1, 1, 3] True\n",
      "[1, 3, 1] True\n",
      "[3, 2, 1] False\n"
     ]
    }
   ],
   "source": [
    "ask(ts, has_duplicates)"
   ]
  },
  {
   "cell_type": "markdown",
   "metadata": {},
   "source": [
    "## Ex 10.8  \n",
    "This exercise pertains to the so-called Birthday Paradox, which you can read about at http://en.wikipedia.org/wiki/Birthday_paradox.\n",
    "\n",
    "If there are 23 students in your class, what are the chances that two of them have the same birthday? You can estimate this probability by generating random samples of 23 birthdays and checking for matches. \n",
    "Hint: you can generate random birthdays with the randint function in the random module."
   ]
  },
  {
   "cell_type": "code",
   "execution_count": 12,
   "metadata": {},
   "outputs": [
    {
     "name": "stdout",
     "output_type": "stream",
     "text": [
      "After 100000 trials in a class of 23 students, 50.670000% have students with same birthdays\n"
     ]
    }
   ],
   "source": [
    "def gen_ages(nstudents):\n",
    "    result = []\n",
    "    for i in range(nstudents):\n",
    "        result.append(randint(1,365))\n",
    "    return result\n",
    "        \n",
    "class_size = 23\n",
    "test_size = 100000\n",
    "\n",
    "count = 0\n",
    "for run in range(test_size):\n",
    "    if has_duplicates( gen_ages(class_size) ):\n",
    "        count += 1\n",
    "        \n",
    "print(f\"After {test_size} trials in a class of {class_size} students, {count/test_size:2%} have students with same birthdays\")"
   ]
  },
  {
   "cell_type": "markdown",
   "metadata": {},
   "source": [
    "## Ex 10.9  \n",
    "Write a function that reads the file words.txt and builds a list with one element per word. Write two versions of this function, one using the append method and the other using the idiom t = t + [x]. Which one takes longer to run? Why?\n",
    "\n",
    "Solution: http://thinkpython2.com/code/wordlist.py."
   ]
  },
  {
   "cell_type": "code",
   "execution_count": 13,
   "metadata": {},
   "outputs": [],
   "source": [
    "with open(\"words.txt\") as fin:\n",
    "    words = fin.readlines()"
   ]
  },
  {
   "cell_type": "code",
   "execution_count": 14,
   "metadata": {},
   "outputs": [
    {
     "name": "stdout",
     "output_type": "stream",
     "text": [
      "3.75 ms ± 136 µs per loop (mean ± std. dev. of 7 runs, 100 loops each)\n"
     ]
    }
   ],
   "source": [
    "%%timeit\n",
    "lst1 = []\n",
    "for word in words:\n",
    "    lst1.append(word)"
   ]
  },
  {
   "cell_type": "code",
   "execution_count": 15,
   "metadata": {},
   "outputs": [
    {
     "name": "stdout",
     "output_type": "stream",
     "text": [
      "10.5 ms ± 24.9 µs per loop (mean ± std. dev. of 7 runs, 100 loops each)\n"
     ]
    }
   ],
   "source": [
    "%%timeit\n",
    "lst2 = []\n",
    "for word in words:\n",
    "    lst2 += word"
   ]
  },
  {
   "cell_type": "code",
   "execution_count": 16,
   "metadata": {},
   "outputs": [],
   "source": [
    "# list concatenation is slower because it creates a new list every time"
   ]
  },
  {
   "cell_type": "markdown",
   "metadata": {},
   "source": [
    "## Ex 10.10  \n",
    "To check whether a word is in the word list, you could use the in operator, but it would be slow because it searches through the words in order.\n",
    "\n",
    "Because the words are in alphabetical order, we can speed things up with a bisection search (also known as binary search), which is similar to what you do when you look a word up in the dictionary (the book, not the data structure). You start in the middle and check to see whether the word you are looking for comes before the word in the middle of the list. If so, you search the first half of the list the same way. Otherwise you search the second half.\n",
    "\n",
    "Either way, you cut the remaining search space in half. If the word list has 113,809 words, it will take about 17 steps to find the word or conclude that it’s not there.\n",
    "\n",
    "Write a function called in_bisect that takes a sorted list and a target value and returns True if the word is in the list and False if it’s not.\n",
    "\n",
    "Or you could read the documentation of the bisect module and use that! Solution: http://thinkpython2.com/code/inlist.py."
   ]
  },
  {
   "cell_type": "code",
   "execution_count": 17,
   "metadata": {},
   "outputs": [],
   "source": [
    "with open(\"words.txt\") as fin:\n",
    "    words = [ w.rstrip() for w in fin.readlines()]"
   ]
  },
  {
   "cell_type": "markdown",
   "metadata": {},
   "source": [
    "### binary search using recursive calls\n",
    "Comment: a recursive call combined with indices wshould ease the overhead of creating new lists"
   ]
  },
  {
   "cell_type": "code",
   "execution_count": 18,
   "metadata": {},
   "outputs": [],
   "source": [
    "def xin_bisect(target, lst):\n",
    "    n = len(lst)\n",
    "    if n <= 0:\n",
    "        return False\n",
    "    if n == 1: \n",
    "        return lst[0] == target\n",
    "\n",
    "    mid = n//2-1\n",
    "    \n",
    "    if lst[mid] == target:\n",
    "        return True\n",
    "\n",
    "    if lst[mid] < target:\n",
    "        if mid+1 > n:\n",
    "            return False\n",
    "        else:\n",
    "            return xin_bisect(target, lst[mid+1:])\n",
    "    \n",
    "    if mid-1 < 0:\n",
    "        return False\n",
    "    return xin_bisect(target, lst[:mid-1])\n",
    "    "
   ]
  },
  {
   "cell_type": "code",
   "execution_count": 19,
   "metadata": {},
   "outputs": [
    {
     "name": "stdout",
     "output_type": "stream",
     "text": [
      "\"IN\" using recursive binary search xin_bisect\n",
      "False\n",
      "1.48 ms ± 0 ns per loop (mean ± std. dev. of 1 run, 1 loop each)\n"
     ]
    }
   ],
   "source": [
    "%%timeit -n 1 -r 1\n",
    "ts = [\n",
    "    ([1, 2, 3, 4, 5, 6], 6),\n",
    "    ([1, 2, 3, 4, 5, 6], 1),\n",
    "    ([1, 2, 3, 4, 5, 6], 4),\n",
    "    ([1, 2, 3, 4, 5, 6], 7),\n",
    "    ([1, 2, 3, 4, 5, 6], 0),\n",
    "    ([], 6),  \n",
    "    ([1,1,3], 3),\n",
    "    ([6], 6),\n",
    "    ([6], 5),\n",
    "]\n",
    "print(\"\\\"IN\\\" using recursive binary search xin_bisect\")\n",
    "for t, target in ts:\n",
    "    b = xin_bisect(target, t)\n",
    "#     print( t, target, b )\n",
    "#     print( t, target )    \n",
    "c = xin_bisect(\"lmysttg\", words)\n",
    "print(c)"
   ]
  },
  {
   "cell_type": "markdown",
   "metadata": {},
   "source": [
    "### Binary search using pointers. Saves overhead making calls and  stacking frames for the recursive calls"
   ]
  },
  {
   "cell_type": "code",
   "execution_count": 20,
   "metadata": {},
   "outputs": [],
   "source": [
    "def in_bisect(target, lst):\n",
    "    e = len(lst) - 1\n",
    "    s = 0\n",
    "    while e >= s:\n",
    "        m = (e + s)//2\n",
    "        if lst[m] == target:\n",
    "            return True\n",
    "        if target > lst[m]:\n",
    "            s = m + 1\n",
    "        else:\n",
    "            e = m - 1\n",
    "    return False"
   ]
  },
  {
   "cell_type": "code",
   "execution_count": 21,
   "metadata": {},
   "outputs": [
    {
     "name": "stdout",
     "output_type": "stream",
     "text": [
      "\"IN\" using binary search in_bisect\n",
      "[1, 2, 3, 4, 5, 6] 6\n",
      "[1, 2, 3, 4, 5, 6] 1\n",
      "[1, 2, 3, 4, 5, 6] 4\n",
      "[1, 2, 3, 4, 5, 6] 7\n",
      "[1, 2, 3, 4, 5, 6] 0\n",
      "[] 6\n",
      "[1, 1, 3] 3\n",
      "[6] 6\n",
      "[6] 5\n",
      "False\n",
      "872 µs ± 0 ns per loop (mean ± std. dev. of 1 run, 1 loop each)\n"
     ]
    }
   ],
   "source": [
    "%%timeit -n 1 -r 1\n",
    "ts = [\n",
    "    ([1, 2, 3, 4, 5, 6], 6),\n",
    "    ([1, 2, 3, 4, 5, 6], 1),\n",
    "    ([1, 2, 3, 4, 5, 6], 4),\n",
    "    ([1, 2, 3, 4, 5, 6], 7),\n",
    "    ([1, 2, 3, 4, 5, 6], 0),\n",
    "    ([], 6),  \n",
    "    ([1,1,3], 3),\n",
    "    ([6], 6),\n",
    "    ([6], 5),\n",
    "]\n",
    "print(\"\\\"IN\\\" using binary search in_bisect\")\n",
    "for t, target in ts:\n",
    "    b = in_bisect(target, t)\n",
    "    print(t, target)\n",
    "#     print( t, target )    \n",
    "c = in_bisect(\"lmysttg\", words)\n",
    "print(c)"
   ]
  },
  {
   "cell_type": "markdown",
   "metadata": {},
   "source": [
    "### Using the builtin search operator for lists: in"
   ]
  },
  {
   "cell_type": "code",
   "execution_count": 22,
   "metadata": {},
   "outputs": [
    {
     "name": "stdout",
     "output_type": "stream",
     "text": [
      "\"IN\" using builtin in\n",
      "[1, 2, 3, 4, 5, 6] 6 True\n",
      "[1, 2, 3, 4, 5, 6] 1 True\n",
      "[1, 2, 3, 4, 5, 6] 4 True\n",
      "[1, 2, 3, 4, 5, 6] 7 False\n",
      "[1, 2, 3, 4, 5, 6] 0 False\n",
      "[] 6 False\n",
      "[1, 1, 3] 3 True\n",
      "[6] 6 True\n",
      "[6] 5 False\n",
      "False\n",
      "3.28 ms ± 0 ns per loop (mean ± std. dev. of 1 run, 1 loop each)\n"
     ]
    }
   ],
   "source": [
    "%%timeit -n 1 -r 1\n",
    "ts = [\n",
    "    ([1, 2, 3, 4, 5, 6], 6),\n",
    "    ([1, 2, 3, 4, 5, 6], 1),\n",
    "    ([1, 2, 3, 4, 5, 6], 4),\n",
    "    ([1, 2, 3, 4, 5, 6], 7),\n",
    "    ([1, 2, 3, 4, 5, 6], 0),\n",
    "    ([], 6),  \n",
    "    ([1,1,3], 3),\n",
    "    ([6], 6),\n",
    "    ([6], 5),\n",
    "]\n",
    "\n",
    "print(\"\\\"IN\\\" using builtin in\")\n",
    "for t, target in ts:\n",
    "    b = target in t\n",
    "    print( t, target, b )\n",
    "#     print( t, target )    \n",
    "c = \"lmysttg\" in words\n",
    "print(c)"
   ]
  },
  {
   "cell_type": "markdown",
   "metadata": {},
   "source": [
    "### Binary search using pointers and recursion"
   ]
  },
  {
   "cell_type": "code",
   "execution_count": 23,
   "metadata": {},
   "outputs": [],
   "source": [
    "def bisearch(target, lst, s, e):\n",
    "    # Searchs sorted lst[s:e+1] for target\n",
    "    # Return index of first match, or -1 if no match \n",
    "    while e >= s:\n",
    "        m = (e + s)//2\n",
    "        if target == lst[m]:\n",
    "            return True\n",
    "        if target > lst[m]:\n",
    "            return bisearch(target, lst, m + 1, e)\n",
    "        else:\n",
    "            return bisearch(target, lst, s, m - 1)\n",
    "    return False"
   ]
  },
  {
   "cell_type": "code",
   "execution_count": 24,
   "metadata": {},
   "outputs": [],
   "source": [
    "def bisearch2(target, lst):\n",
    "    # Searchs sorted lst[s:e+1] for target\n",
    "    # Return index of first match, or -1 if no match \n",
    "    s = 0\n",
    "    e = len(lst) - 1\n",
    "    while e >= s:\n",
    "        m = (e + s)//2\n",
    "        if target == lst[m]:\n",
    "            return True\n",
    "        if target > lst[m]:\n",
    "            s = m + 1\n",
    "        else:\n",
    "            e = m - 1\n",
    "    return False"
   ]
  },
  {
   "cell_type": "code",
   "execution_count": 25,
   "metadata": {},
   "outputs": [
    {
     "name": "stdout",
     "output_type": "stream",
     "text": [
      "\"IN\" using point binary search bisearch\n",
      "[1, 2, 3, 4, 5, 6] 6 True\n",
      "[1, 2, 3, 4, 5, 6] 1 True\n",
      "[1, 2, 3, 4, 5, 6] 4 True\n",
      "[1, 2, 3, 4, 5, 6] 7 False\n",
      "[1, 2, 3, 4, 5, 6] 0 False\n",
      "[] 6 False\n",
      "[1, 1, 3] 3 True\n",
      "[6] 6 True\n",
      "[6] 5 False\n",
      "2.14 ms ± 0 ns per loop (mean ± std. dev. of 1 run, 1 loop each)\n"
     ]
    }
   ],
   "source": [
    "%%timeit -n 1 -r 1\n",
    "ts = [\n",
    "    ([1, 2, 3, 4, 5, 6], 6),\n",
    "    ([1, 2, 3, 4, 5, 6], 1),\n",
    "    ([1, 2, 3, 4, 5, 6], 4),\n",
    "    ([1, 2, 3, 4, 5, 6], 7),\n",
    "    ([1, 2, 3, 4, 5, 6], 0),\n",
    "    ([], 6),  \n",
    "    ([1,1,3], 3),\n",
    "    ([6], 6),\n",
    "    ([6], 5),\n",
    "]\n",
    "\n",
    "print(\"\\\"IN\\\" using point binary search bisearch\")\n",
    "for t, target in ts:\n",
    "    b = bisearch(target, t, 0, len(t)-1)\n",
    "    print( t, target, b )\n",
    "#     print( t, target )    \n"
   ]
  },
  {
   "cell_type": "code",
   "execution_count": 26,
   "metadata": {},
   "outputs": [
    {
     "name": "stdout",
     "output_type": "stream",
     "text": [
      "\"IN\" using point binary search bisearch2\n",
      "[1, 2, 3, 4, 5, 6] 6 True\n",
      "[1, 2, 3, 4, 5, 6] 1 True\n",
      "[1, 2, 3, 4, 5, 6] 4 True\n",
      "[1, 2, 3, 4, 5, 6] 7 False\n",
      "[1, 2, 3, 4, 5, 6] 0 False\n",
      "[] 6 False\n",
      "[1, 1, 3] 3 True\n",
      "[6] 6 True\n",
      "[6] 5 False\n",
      "3.08 ms ± 0 ns per loop (mean ± std. dev. of 1 run, 1 loop each)\n"
     ]
    }
   ],
   "source": [
    "%%timeit -n 1 -r 1\n",
    "ts = [\n",
    "    ([1, 2, 3, 4, 5, 6], 6),\n",
    "    ([1, 2, 3, 4, 5, 6], 1),\n",
    "    ([1, 2, 3, 4, 5, 6], 4),\n",
    "    ([1, 2, 3, 4, 5, 6], 7),\n",
    "    ([1, 2, 3, 4, 5, 6], 0),\n",
    "    ([], 6),  \n",
    "    ([1,1,3], 3),\n",
    "    ([6], 6),\n",
    "    ([6], 5),\n",
    "]\n",
    "\n",
    "print(\"\\\"IN\\\" using point binary search bisearch2\")\n",
    "for t, target in ts:\n",
    "    b = bisearch2(target, t)\n",
    "    print( t, target, b )\n",
    "#     print( t, target )    \n"
   ]
  },
  {
   "cell_type": "code",
   "execution_count": 27,
   "metadata": {},
   "outputs": [
    {
     "name": "stdout",
     "output_type": "stream",
     "text": [
      "in:         Builtin operator\n",
      "1.04 ms ± 3.38 µs per loop (mean ± std. dev. of 7 runs, 1000 loops each)\n",
      "xin_bisect: Recursive\n",
      "362 µs ± 3.88 µs per loop (mean ± std. dev. of 7 runs, 1000 loops each)\n",
      "in_bisect:  move pointers to same list\n",
      "2.1 µs ± 13.9 ns per loop (mean ± std. dev. of 7 runs, 100000 loops each)\n",
      "bisearch:   move pointers to same list, recursive calls\n",
      "562 ns ± 1.55 ns per loop (mean ± std. dev. of 7 runs, 1000000 loops each)\n",
      "bisearch2:   move pointers to same list, no recursion\n",
      "2.1 µs ± 19 ns per loop (mean ± std. dev. of 7 runs, 100000 loops each)\n"
     ]
    }
   ],
   "source": [
    "trial_target = \"vnht\"\n",
    "print(\"in:         Builtin operator\")\n",
    "%timeit  trial_target in words\n",
    "print(\"xin_bisect: Recursive\")\n",
    "%timeit  xin_bisect(trial_target, words)\n",
    "print(\"in_bisect:  move pointers to same list\")\n",
    "%timeit  in_bisect(trial_target, words)\n",
    "print(\"bisearch:   move pointers to same list, recursive calls\")\n",
    "%timeit  bisearch(trial_target, words, 0, len(trial_target)-1)\n",
    "print(\"bisearch2:   move pointers to same list, no recursion\")\n",
    "%timeit  bisearch2(trial_target, words)\n",
    "\n"
   ]
  },
  {
   "cell_type": "markdown",
   "metadata": {},
   "source": [
    "## Ex 10.11  \n",
    "Two words are a “reverse pair” if each is the reverse of the other. Write a program that finds all the reverse pairs in the word list. Solution: http://thinkpython2.com/code/reverse_pair.py."
   ]
  },
  {
   "cell_type": "code",
   "execution_count": 28,
   "metadata": {},
   "outputs": [
    {
     "data": {
      "text/plain": [
       "True"
      ]
     },
     "execution_count": 28,
     "metadata": {},
     "output_type": "execute_result"
    }
   ],
   "source": [
    "def is_reverse_pair(word1, word2):\n",
    "    if len(word1) != len(word2):\n",
    "        return False\n",
    "    return word1 == word2[-1::-1]\n",
    "is_reverse_pair(\"abcd\", \"dcba\")"
   ]
  },
  {
   "cell_type": "code",
   "execution_count": 29,
   "metadata": {},
   "outputs": [
    {
     "name": "stdout",
     "output_type": "stream",
     "text": [
      "[['aa', 'aa'], ['aba', 'aba'], ['abut', 'tuba'], ['ad', 'da'], ['ados', 'soda'], ['aga', 'aga'], ['agar', 'raga'], ['agas', 'saga'], ['agenes', 'senega'], ['ah', 'ha'], ['aha', 'aha'], ['aider', 'redia'], ['airts', 'stria'], ['ajar', 'raja'], ['ala', 'ala'], ['alif', 'fila'], ['alula', 'alula'], ['am', 'ma'], ['ama', 'ama'], ['amen', 'nema'], ['amis', 'sima'], ['an', 'na'], ['ana', 'ana'], ['anger', 'regna'], ['animal', 'lamina'], ['animes', 'semina'], ['anna', 'anna'], ['anon', 'nona'], ['ante', 'etna'], ['are', 'era'], ['ares', 'sera'], ['aril', 'lira'], ['arris', 'sirra'], ['arum', 'mura'], ['at', 'ta'], ['ate', 'eta'], ['ates', 'seta'], ['auks', 'skua'], ['ava', 'ava'], ['avid', 'diva'], ['avo', 'ova'], ['awa', 'awa'], ['ay', 'ya'], ['bad', 'dab'], ['bag', 'gab'], ['bal', 'lab'], ['bals', 'slab'], ['ban', 'nab'], ['bard', 'drab'], ['bas', 'sab'], ['bat', 'tab'], ['bats', 'stab'], ['bed', 'deb'], ['ben', 'neb'], ['bib', 'bib'], ['bid', 'dib'], ['big', 'gib'], ['bin', 'nib'], ['bins', 'snib'], ['bird', 'drib'], ['bis', 'sib'], ['bob', 'bob'], ['bog', 'gob'], ['boob', 'boob'], ['bos', 'sob'], ['bots', 'stob'], ['bows', 'swob'], ['brad', 'darb'], ['brag', 'garb'], ['bub', 'bub'], ['bud', 'dub'], ['bun', 'nub'], ['buns', 'snub'], ['bur', 'rub'], ['burd', 'drub'], ['burg', 'grub'], ['bus', 'sub'], ['but', 'tub'], ['buts', 'stub'], ['cam', 'mac'], ['cap', 'pac'], ['cares', 'serac'], ['civic', 'civic'], ['cod', 'doc'], ['cram', 'marc'], ['cud', 'duc'], ['da', 'ad'], ['dab', 'bad'], ['dad', 'dad'], ['dag', 'gad'], ['dah', 'had'], ['dahs', 'shad'], ['dam', 'mad'], ['dap', 'pad'], ['darb', 'brad'], ['dart', 'trad'], ['daw', 'wad'], ['deb', 'bed'], ['debut', 'tubed'], ['decal', 'laced'], ['dedal', 'laded'], ['deed', 'deed'], ['deem', 'meed'], ['deep', 'peed'], ['deeps', 'speed'], ['deer', 'reed'], ['dees', 'seed'], ['defer', 'refed'], ['degami', 'imaged'], ['deified', 'deified'], ['deifier', 'reified'], ['deil', 'lied'], ['deke', 'eked'], ['deked', 'deked'], ['del', 'led'], ['deled', 'deled'], ['delf', 'fled'], ['deliver', 'reviled'], ['dels', 'sled'], ['demit', 'timed'], ['denier', 'reined'], ['denies', 'seined'], ['denim', 'mined'], ['denned', 'denned'], ['dens', 'sned'], ['depot', 'toped'], ['depots', 'stoped'], ['derat', 'tared'], ['derats', 'stared'], ['dessert', 'tressed'], ['desserts', 'stressed'], ['devas', 'saved'], ['devil', 'lived'], ['dew', 'wed'], ['dewans', 'snawed'], ['dewed', 'dewed'], ['dexes', 'sexed'], ['dial', 'laid'], ['dialer', 'relaid'], ['diaper', 'repaid'], ['dib', 'bid'], ['did', 'did'], ['dig', 'gid'], ['dim', 'mid'], ['dinar', 'ranid'], ['diols', 'sloid'], ['dirts', 'strid'], ['diva', 'avid'], ['do', 'od'], ['doc', 'cod'], ['dog', 'god'], ['dom', 'mod'], ['don', 'nod'], ['doom', 'mood'], ['door', 'rood'], ['dor', 'rod'], ['dormin', 'nimrod'], ['dorp', 'prod'], ['dos', 'sod'], ['dot', 'tod'], ['drab', 'bard'], ['drail', 'liard'], ['draw', 'ward'], ['drawer', 'reward'], ['draws', 'sward'], ['dray', 'yard'], ['drib', 'bird'], ['drub', 'burd'], ['dual', 'laud'], ['dub', 'bud'], ['duc', 'cud'], ['ducs', 'scud'], ['dud', 'dud'], ['duel', 'leud'], ['duo', 'oud'], ['dup', 'pud'], ['dups', 'spud'], ['eat', 'tae'], ['edile', 'elide'], ['edit', 'tide'], ['eel', 'lee'], ['eh', 'he'], ['eke', 'eke'], ['eked', 'deke'], ['elide', 'edile'], ['elides', 'sedile'], ['em', 'me'], ['eme', 'eme'], ['emes', 'seme'], ['emir', 'rime'], ['emit', 'time'], ['emits', 'stime'], ['enol', 'lone'], ['er', 're'], ['era', 'are'], ['ere', 'ere'], ['ergo', 'ogre'], ['eros', 'sore'], ['ervil', 'livre'], ['eta', 'ate'], ['etas', 'sate'], ['etna', 'ante'], ['eve', 'eve'], ['even', 'neve'], ['evil', 'live'], ['eviler', 'relive'], ['ewe', 'ewe'], ['eye', 'eye'], ['fer', 'ref'], ['fila', 'alif'], ['fires', 'serif'], ['fled', 'delf'], ['flog', 'golf'], ['flow', 'wolf'], ['fool', 'loof'], ['gab', 'bag'], ['gad', 'dag'], ['gag', 'gag'], ['gal', 'lag'], ['gals', 'slag'], ['gam', 'mag'], ['gan', 'nag'], ['gar', 'rag'], ['garb', 'brag'], ['gas', 'sag'], ['gat', 'tag'], ['gats', 'stag'], ['gel', 'leg'], ['gelder', 'redleg'], ['get', 'teg'], ['gib', 'big'], ['gid', 'dig'], ['gig', 'gig'], ['gip', 'pig'], ['girt', 'trig'], ['gnar', 'rang'], ['gnat', 'tang'], ['gnats', 'stang'], ['gnaws', 'swang'], ['gnus', 'sung'], ['gob', 'bog'], ['god', 'dog'], ['golf', 'flog'], ['got', 'tog'], ['grub', 'burg'], ['gul', 'lug'], ['gulp', 'plug'], ['guls', 'slug'], ['gum', 'mug'], ['gums', 'smug'], ['guns', 'snug'], ['gut', 'tug'], ['ha', 'ah'], ['habus', 'subah'], ['had', 'dah'], ['hah', 'hah'], ['hahs', 'shah'], ['halalah', 'halalah'], ['hales', 'selah'], ['hallah', 'hallah'], ['hap', 'pah'], ['hay', 'yah'], ['he', 'eh'], ['hey', 'yeh'], ['ho', 'oh'], ['hoop', 'pooh'], ['hop', 'poh'], ['huh', 'huh'], ['imaged', 'degami'], ['is', 'si'], ['it', 'ti'], ['jar', 'raj'], ['kaiak', 'kaiak'], ['kay', 'yak'], ['kayak', 'kayak'], ['keek', 'keek'], ['keel', 'leek'], ['keels', 'sleek'], ['keep', 'peek'], ['keets', 'steek'], ['kips', 'spik'], ['knaps', 'spank'], ['knar', 'rank'], ['knits', 'stink'], ['kook', 'kook'], ['lab', 'bal'], ['laced', 'decal'], ['laded', 'dedal'], ['lag', 'gal'], ['lager', 'regal'], ['laid', 'dial'], ['lair', 'rial'], ['lamina', 'animal'], ['lap', 'pal'], ['lares', 'seral'], ['larum', 'mural'], ['las', 'sal'], ['laud', 'dual'], ['led', 'del'], ['lee', 'eel'], ['leek', 'keel'], ['leer', 'reel'], ['lees', 'seel'], ['leets', 'steel'], ['leg', 'gel'], ['leper', 'repel'], ['leud', 'duel'], ['level', 'level'], ['lever', 'revel'], ['levins', 'snivel'], ['liar', 'rail'], ['liard', 'drail'], ['lied', 'deil'], ['lin', 'nil'], ['lion', 'noil'], ['lira', 'aril'], ['lit', 'til'], ['live', 'evil'], ['lived', 'devil'], ['livre', 'ervil'], ['lobo', 'obol'], ['lone', 'enol'], ['loof', 'fool'], ['loom', 'mool'], ['loons', 'snool'], ['loop', 'pool'], ['loops', 'spool'], ['loot', 'tool'], ['looter', 'retool'], ['loots', 'stool'], ['lop', 'pol'], ['lotos', 'sotol'], ['lug', 'gul'], ['ma', 'am'], ['mac', 'cam'], ['macs', 'scam'], ['mad', 'dam'], ['madam', 'madam'], ['maes', 'seam'], ['mag', 'gam'], ['map', 'pam'], ['mar', 'ram'], ['marc', 'cram'], ['marcs', 'scram'], ['marram', 'marram'], ['mart', 'tram'], ['mat', 'tam'], ['maws', 'swam'], ['may', 'yam'], ['me', 'em'], ['meed', 'deem'], ['meet', 'teem'], ['mem', 'mem'], ['meter', 'retem'], ['mho', 'ohm'], ['mid', 'dim'], ['mils', 'slim'], ['mim', 'mim'], ['mined', 'denim'], ['minim', 'minim'], ['mir', 'rim'], ['mis', 'sim'], ['mod', 'dom'], ['mom', 'mom'], ['mon', 'nom'], ['mood', 'doom'], ['mool', 'loom'], ['moor', 'room'], ['moot', 'toom'], ['mot', 'tom'], ['mug', 'gum'], ['mum', 'mum'], ['mura', 'arum'], ['mural', 'larum'], ['mures', 'serum'], ['mus', 'sum'], ['muts', 'stum'], ['na', 'an'], ['nab', 'ban'], ['nag', 'gan'], ['namer', 'reman'], ['nap', 'pan'], ['naps', 'span'], ['neb', 'ben'], ['neep', 'peen'], ['nema', 'amen'], ['net', 'ten'], ['neve', 'even'], ['neves', 'seven'], ['new', 'wen'], ['nib', 'bin'], ['nil', 'lin'], ['nimrod', 'dormin'], ['nip', 'pin'], ['nips', 'spin'], ['nit', 'tin'], ['no', 'on'], ['nod', 'don'], ['noil', 'lion'], ['nolos', 'solon'], ['nom', 'mon'], ['nona', 'anon'], ['noon', 'noon'], ['nos', 'son'], ['not', 'ton'], ['notes', 'seton'], ['now', 'won'], ['nu', 'un'], ['nub', 'bun'], ['nun', 'nun'], ['nus', 'sun'], ['nut', 'tun'], ['nuts', 'stun'], ['oat', 'tao'], ['obol', 'lobo'], ['od', 'do'], ['ogre', 'ergo'], ['oh', 'ho'], ['ohm', 'mho'], ['oho', 'oho'], ['on', 'no'], ['oohs', 'shoo'], ['oot', 'too'], ['os', 'so'], ['otto', 'otto'], ['oud', 'duo'], ['ova', 'avo'], ['ow', 'wo'], ['pac', 'cap'], ['pacer', 'recap'], ['pad', 'dap'], ['pah', 'hap'], ['pal', 'lap'], ['pals', 'slap'], ['pam', 'map'], ['pan', 'nap'], ['pans', 'snap'], ['pap', 'pap'], ['par', 'rap'], ['part', 'trap'], ['parts', 'strap'], ['pas', 'sap'], ['pat', 'tap'], ['paw', 'wap'], ['paws', 'swap'], ['pay', 'yap'], ['peed', 'deep'], ['peek', 'keep'], ['peels', 'sleep'], ['peen', 'neep'], ['peep', 'peep'], ['pees', 'seep'], ['pep', 'pep'], ['per', 'rep'], ['pets', 'step'], ['pig', 'gip'], ['pin', 'nip'], ['pins', 'snip'], ['pip', 'pip'], ['pis', 'sip'], ['pit', 'tip'], ['plug', 'gulp'], ['poh', 'hop'], ['pol', 'lop'], ['pols', 'slop'], ['pooh', 'hoop'], ['pool', 'loop'], ['pools', 'sloop'], ['poons', 'snoop'], ['poop', 'poop'], ['pop', 'pop'], ['port', 'trop'], ['ports', 'strop'], ['pot', 'top'], ['pots', 'stop'], ['pow', 'wop'], ['pows', 'swop'], ['prat', 'tarp'], ['prod', 'dorp'], ['pud', 'dup'], ['pup', 'pup'], ['pupils', 'slipup'], ['puris', 'sirup'], ['pus', 'sup'], ['put', 'tup'], ['radar', 'radar'], ['rag', 'gar'], ['raga', 'agar'], ['rail', 'liar'], ['raj', 'jar'], ['raja', 'ajar'], ['ram', 'mar'], ['rang', 'gnar'], ['ranid', 'dinar'], ['rank', 'knar'], ['rap', 'par'], ['raps', 'spar'], ['rat', 'tar'], ['rats', 'star'], ['raw', 'war'], ['ray', 'yar'], ['re', 'er'], ['rebus', 'suber'], ['rebut', 'tuber'], ['recap', 'pacer'], ['recaps', 'spacer'], ['redder', 'redder'], ['redes', 'seder'], ['redia', 'aider'], ['redips', 'spider'], ['redleg', 'gelder'], ['redraw', 'warder'], ['redrawer', 'rewarder'], ['reed', 'deer'], ['reel', 'leer'], ['rees', 'seer'], ['ref', 'fer'], ['refed', 'defer'], ['refer', 'refer'], ['reflet', 'telfer'], ['reflow', 'wolfer'], ['regal', 'lager'], ['regna', 'anger'], ['reified', 'deifier'], ['reifier', 'reifier'], ['reined', 'denier'], ['reknit', 'tinker'], ['reknits', 'stinker'], ['relaid', 'dialer'], ['relit', 'tiler'], ['relive', 'eviler'], ['reman', 'namer'], ['remeet', 'teemer'], ['remit', 'timer'], ['rennet', 'tenner'], ['rep', 'per'], ['repaid', 'diaper'], ['repaper', 'repaper'], ['repel', 'leper'], ['repins', 'sniper'], ['res', 'ser'], ['retem', 'meter'], ['retool', 'looter'], ['revel', 'lever'], ['reviled', 'deliver'], ['reviver', 'reviver'], ['reward', 'drawer'], ['rewarder', 'redrawer'], ['rial', 'lair'], ['rim', 'mir'], ['rime', 'emir'], ['rod', 'dor'], ['rood', 'door'], ['room', 'moor'], ['rot', 'tor'], ['rotator', 'rotator'], ['rotor', 'rotor'], ['rub', 'bur'], ['sab', 'bas'], ['sag', 'gas'], ['saga', 'agas'], ['sagas', 'sagas'], ['sal', 'las'], ['sallets', 'stellas'], ['sap', 'pas'], ['saps', 'spas'], ['sat', 'tas'], ['sate', 'etas'], ['saved', 'devas'], ['saw', 'was'], ['scam', 'macs'], ['scares', 'seracs'], ['scram', 'marcs'], ['scud', 'ducs'], ['seam', 'maes'], ['secret', 'terces'], ['seder', 'redes'], ['sedile', 'elides'], ['seed', 'dees'], ['seeks', 'skees'], ['seel', 'lees'], ['seep', 'pees'], ['seer', 'rees'], ['sees', 'sees'], ['seined', 'denies'], ['selah', 'hales'], ['selahs', 'shales'], ['selles', 'selles'], ['seme', 'emes'], ['sememes', 'sememes'], ['semes', 'semes'], ['semina', 'animes'], ['senega', 'agenes'], ['ser', 'res'], ['sera', 'ares'], ['serac', 'cares'], ['seracs', 'scares'], ['seral', 'lares'], ['seres', 'seres'], ['serif', 'fires'], ['serum', 'mures'], ['seta', 'ates'], ['seton', 'notes'], ['seven', 'neves'], ['sexed', 'dexes'], ['sexes', 'sexes'], ['shad', 'dahs'], ['shah', 'hahs'], ['shahs', 'shahs'], ['shales', 'selahs'], ['shoo', 'oohs'], ['si', 'is'], ['sib', 'bis'], ['sim', 'mis'], ['sima', 'amis'], ['sip', 'pis'], ['sirra', 'arris'], ['sirs', 'sris'], ['sirup', 'puris'], ['sis', 'sis'], ['sit', 'tis'], ['six', 'xis'], ['skees', 'seeks'], ['skeets', 'steeks'], ['skips', 'spiks'], ['skua', 'auks'], ['slab', 'bals'], ['slag', 'gals'], ['slap', 'pals'], ['sled', 'dels'], ['sleek', 'keels'], ['sleep', 'peels'], ['sleeps', 'speels'], ['sleets', 'steels'], ['slim', 'mils'], ['slipup', 'pupils'], ['slit', 'tils'], ['sloid', 'diols'], ['sloop', 'pools'], ['sloops', 'spools'], ['slop', 'pols'], ['slug', 'guls'], ['smart', 'trams'], ['smug', 'gums'], ['smuts', 'stums'], ['snap', 'pans'], ['snaps', 'spans'], ['snaw', 'wans'], ['snawed', 'dewans'], ['snaws', 'swans'], ['sned', 'dens'], ['snib', 'bins'], ['snip', 'pins'], ['sniper', 'repins'], ['snips', 'spins'], ['snit', 'tins'], ['snivel', 'levins'], ['snool', 'loons'], ['snoop', 'poons'], ['snoops', 'spoons'], ['snoot', 'toons'], ['snot', 'tons'], ['snow', 'wons'], ['snub', 'buns'], ['snug', 'guns'], ['so', 'os'], ['sob', 'bos'], ['sod', 'dos'], ['soda', 'ados'], ['solon', 'nolos'], ['solos', 'solos'], ['son', 'nos'], ['sore', 'eros'], ['sos', 'sos'], ['sotol', 'lotos'], ['sow', 'wos'], ['spacer', 'recaps'], ['span', 'naps'], ['spank', 'knaps'], ['spans', 'snaps'], ['spar', 'raps'], ['spas', 'saps'], ['spat', 'taps'], ['spay', 'yaps'], ['speed', 'deeps'], ['speels', 'sleeps'], ['spider', 'redips'], ['spik', 'kips'], ['spiks', 'skips'], ['spin', 'nips'], ['spins', 'snips'], ['spirt', 'trips'], ['spirts', 'strips'], ['spit', 'tips'], ['spool', 'loops'], ['spools', 'sloops'], ['spoons', 'snoops'], ['sports', 'strops'], ['spot', 'tops'], ['spots', 'stops'], ['sprat', 'tarps'], ['sprits', 'stirps'], ['spud', 'dups'], ['sris', 'sirs'], ['stab', 'bats'], ['stag', 'gats'], ['stang', 'gnats'], ['star', 'rats'], ['stared', 'derats'], ['staw', 'wats'], ['steek', 'keets'], ['steeks', 'skeets'], ['steel', 'leets'], ['steels', 'sleets'], ['stellas', 'sallets'], ['step', 'pets'], ['stets', 'stets'], ['stew', 'wets'], ['stime', 'emits'], ['stink', 'knits'], ['stinker', 'reknits'], ['stirps', 'sprits'], ['stob', 'bots'], ['stool', 'loots'], ['stop', 'pots'], ['stoped', 'depots'], ['stops', 'spots'], ['stow', 'wots'], ['stows', 'swots'], ['strap', 'parts'], ['straw', 'warts'], ['stressed', 'desserts'], ['stria', 'airts'], ['strid', 'dirts'], ['strips', 'spirts'], ['strop', 'ports'], ['strops', 'sports'], ['strow', 'worts'], ['struts', 'sturts'], ['stub', 'buts'], ['stum', 'muts'], ['stums', 'smuts'], ['stun', 'nuts'], ['sturts', 'struts'], ['sub', 'bus'], ['subah', 'habus'], ['suber', 'rebus'], ['sum', 'mus'], ['sun', 'nus'], ['sung', 'gnus'], ['sup', 'pus'], ['swam', 'maws'], ['swang', 'gnaws'], ['swans', 'snaws'], ['swap', 'paws'], ['sward', 'draws'], ['swat', 'taws'], ['sway', 'yaws'], ['swob', 'bows'], ['swop', 'pows'], ['swot', 'tows'], ['swots', 'stows'], ['ta', 'at'], ['tab', 'bat'], ['tae', 'eat'], ['tag', 'gat'], ['tam', 'mat'], ['tang', 'gnat'], ['tao', 'oat'], ['tap', 'pat'], ['taps', 'spat'], ['tar', 'rat'], ['tared', 'derat'], ['tarp', 'prat'], ['tarps', 'sprat'], ['tas', 'sat'], ['tat', 'tat'], ['tav', 'vat'], ['taw', 'wat'], ['taws', 'swat'], ['teem', 'meet'], ['teemer', 'remeet'], ['teg', 'get'], ['telfer', 'reflet'], ['ten', 'net'], ['tenet', 'tenet'], ['tenner', 'rennet'], ['terces', 'secret'], ['terret', 'terret'], ['tew', 'wet'], ['ti', 'it'], ['tide', 'edit'], ['til', 'lit'], ['tiler', 'relit'], ['tils', 'slit'], ['time', 'emit'], ['timed', 'demit'], ['timer', 'remit'], ['tin', 'nit'], ['tinker', 'reknit'], ['tins', 'snit'], ['tip', 'pit'], ['tips', 'spit'], ['tis', 'sit'], ['tit', 'tit'], ['tod', 'dot'], ['tog', 'got'], ['tom', 'mot'], ['ton', 'not'], ['tons', 'snot'], ['too', 'oot'], ['tool', 'loot'], ['toom', 'moot'], ['toons', 'snoot'], ['toot', 'toot'], ['top', 'pot'], ['toped', 'depot'], ['tops', 'spot'], ['tor', 'rot'], ['tort', 'trot'], ['tot', 'tot'], ['tow', 'wot'], ['tows', 'swot'], ['trad', 'dart'], ['tram', 'mart'], ['trams', 'smart'], ['trap', 'part'], ['tressed', 'dessert'], ['trig', 'girt'], ['trips', 'spirt'], ['trop', 'port'], ['trot', 'tort'], ['trow', 'wort'], ['tub', 'but'], ['tuba', 'abut'], ['tubed', 'debut'], ['tuber', 'rebut'], ['tug', 'gut'], ['tun', 'nut'], ['tup', 'put'], ['tut', 'tut'], ['un', 'nu'], ['vat', 'tav'], ['vav', 'vav'], ['wad', 'daw'], ['wans', 'snaw'], ['wap', 'paw'], ['war', 'raw'], ['ward', 'draw'], ['warder', 'redraw'], ['warts', 'straw'], ['was', 'saw'], ['wat', 'taw'], ['wats', 'staw'], ['waw', 'waw'], ['way', 'yaw'], ['wed', 'dew'], ['wen', 'new'], ['wet', 'tew'], ['wets', 'stew'], ['wo', 'ow'], ['wolf', 'flow'], ['wolfer', 'reflow'], ['won', 'now'], ['wons', 'snow'], ['wop', 'pow'], ['wort', 'trow'], ['worts', 'strow'], ['wos', 'sow'], ['wot', 'tow'], ['wots', 'stow'], ['wow', 'wow'], ['xis', 'six'], ['ya', 'ay'], ['yah', 'hay'], ['yak', 'kay'], ['yam', 'may'], ['yap', 'pay'], ['yaps', 'spay'], ['yar', 'ray'], ['yard', 'dray'], ['yaw', 'way'], ['yaws', 'sway'], ['yay', 'yay'], ['yeh', 'hey']] 885\n",
      "402 ms ± 0 ns per loop (mean ± std. dev. of 1 run, 1 loop each)\n"
     ]
    }
   ],
   "source": [
    "%%timeit -n 1 -r 1\n",
    "count = 0\n",
    "switched_pairs = []\n",
    "for i, word1 in enumerate(words):\n",
    "    if i>5000000: \n",
    "        break\n",
    "    word2 = word1[-1::-1]\n",
    "#     if word2 in words[i+1:]: # 7s\n",
    "#     if word2 in words:         # 7s\n",
    "    if bisearch(word2, words, 0, len(words)-1):# \n",
    "        count += 1\n",
    "        switched_pairs.append([word1, word2])\n",
    "\n",
    "print(switched_pairs, count)\n",
    "    "
   ]
  },
  {
   "cell_type": "markdown",
   "metadata": {},
   "source": [
    "## Ex 10.12  \n",
    "Two words “interlock” if taking alternating letters from each forms a new word. For example, “shoe” and “cold” interlock to form “schooled”. Solution: http://thinkpython2.com/code/interlock.py. Credit: This exercise is inspired by an example at http://puzzlers.org.\n",
    "\n",
    "1. Write a program that finds all pairs of words that interlock. Hint: don’t enumerate all pairs!\n",
    "2. Can you find any words that are three-way interlocked; that is, every third letter forms a word, starting from the first, second or third?"
   ]
  },
  {
   "cell_type": "code",
   "execution_count": 30,
   "metadata": {},
   "outputs": [
    {
     "name": "stdout",
     "output_type": "stream",
     "text": [
      "make_interlock('','') = ''\n",
      "make_interlock('','123456') = '123456'\n",
      "make_interlock('abcd','') = 'abcd'\n",
      "make_interlock('abcd','1') = 'a1bcd'\n",
      "make_interlock('a','1') = 'a1'\n",
      "make_interlock('abcd','123456') = 'a1b2c3d456'\n"
     ]
    }
   ],
   "source": [
    "def make_interlock(word1, word2):\n",
    "    r = []\n",
    "    for a,b in zip(word1,word2):\n",
    "        r.extend([a,b])\n",
    "    n1 = len(word1)\n",
    "    n2 = len(word2)\n",
    "    if n1 > n2:\n",
    "        r.extend(word1[n2:])\n",
    "    elif n1 < n2:\n",
    "        r.extend(word2[n1:])\n",
    "    return \"\".join(r)\n",
    "\n",
    "ts = [\n",
    "    (\"\", \"\"),\n",
    "    (\"\", \"123456\"),\n",
    "    (\"abcd\", \"\"),\n",
    "    (\"abcd\", \"1\"),\n",
    "    (\"a\", \"1\"),\n",
    "    (\"abcd\", \"123456\"),\n",
    "]\n",
    "\n",
    "for w1, w2 in ts:\n",
    "    print(f\"make_interlock('{w1}','{w2}') = '{make_interlock(w1, w2)}'\")\n"
   ]
  },
  {
   "cell_type": "code",
   "execution_count": 31,
   "metadata": {},
   "outputs": [
    {
     "name": "stdout",
     "output_type": "stream",
     "text": [
      "[1, 'aa', 'crus', 'acarus']\n",
      "[2, 'aa', 'gin', 'again']\n",
      "[3, 'aa', 'wit', 'await']\n",
      "[4, 'aa', 'wited', 'awaited']\n",
      "[5, 'aa', 'witing', 'awaiting']\n",
      "[6, 'aa', 'wits', 'awaits']\n",
      "[7, 'aal', 'viabilities', 'availabilities']\n",
      "[8, 'aal', 'viability', 'availability']\n",
      "[9, 'aal', 'viable', 'available']\n",
      "[10, 'aal', 'vied', 'availed']\n",
      "[11, 'aal', 'vis', 'avails']\n",
      "[12, 'aba', 'mince', 'ambiance']\n",
      "[13, 'aba', 'minces', 'ambiances']\n"
     ]
    },
    {
     "ename": "KeyboardInterrupt",
     "evalue": "",
     "output_type": "error",
     "traceback": [
      "\u001b[0;31m---------------------------------------------------------------------------\u001b[0m",
      "\u001b[0;31mKeyboardInterrupt\u001b[0m                         Traceback (most recent call last)",
      "\u001b[0;32m<ipython-input-31-32242197a486>\u001b[0m in \u001b[0;36m<module>\u001b[0;34m\u001b[0m\n\u001b[1;32m      5\u001b[0m     \u001b[0;32mfor\u001b[0m \u001b[0mw2\u001b[0m \u001b[0;32min\u001b[0m \u001b[0mwords\u001b[0m\u001b[0;34m:\u001b[0m\u001b[0;34m\u001b[0m\u001b[0;34m\u001b[0m\u001b[0m\n\u001b[1;32m      6\u001b[0m         \u001b[0mw\u001b[0m \u001b[0;34m=\u001b[0m \u001b[0mmake_interlock\u001b[0m\u001b[0;34m(\u001b[0m\u001b[0mw1\u001b[0m\u001b[0;34m,\u001b[0m \u001b[0mw2\u001b[0m\u001b[0;34m)\u001b[0m\u001b[0;34m\u001b[0m\u001b[0;34m\u001b[0m\u001b[0m\n\u001b[0;32m----> 7\u001b[0;31m         \u001b[0;32mif\u001b[0m \u001b[0mbisearch\u001b[0m\u001b[0;34m(\u001b[0m\u001b[0mw\u001b[0m\u001b[0;34m,\u001b[0m \u001b[0mwords\u001b[0m\u001b[0;34m,\u001b[0m \u001b[0;36m0\u001b[0m\u001b[0;34m,\u001b[0m \u001b[0mewords\u001b[0m\u001b[0;34m)\u001b[0m\u001b[0;34m:\u001b[0m\u001b[0;34m\u001b[0m\u001b[0;34m\u001b[0m\u001b[0m\n\u001b[0m\u001b[1;32m      8\u001b[0m             \u001b[0mcount\u001b[0m \u001b[0;34m+=\u001b[0m \u001b[0;36m1\u001b[0m\u001b[0;34m\u001b[0m\u001b[0;34m\u001b[0m\u001b[0m\n\u001b[1;32m      9\u001b[0m             \u001b[0mr\u001b[0m \u001b[0;34m=\u001b[0m \u001b[0;34m[\u001b[0m\u001b[0mcount\u001b[0m\u001b[0;34m,\u001b[0m \u001b[0mw1\u001b[0m\u001b[0;34m,\u001b[0m \u001b[0mw2\u001b[0m\u001b[0;34m,\u001b[0m \u001b[0mw\u001b[0m\u001b[0;34m]\u001b[0m\u001b[0;34m\u001b[0m\u001b[0;34m\u001b[0m\u001b[0m\n",
      "\u001b[0;32m<ipython-input-23-8368cf3b8a5f>\u001b[0m in \u001b[0;36mbisearch\u001b[0;34m(target, lst, s, e)\u001b[0m\n\u001b[1;32m      9\u001b[0m             \u001b[0;32mreturn\u001b[0m \u001b[0mbisearch\u001b[0m\u001b[0;34m(\u001b[0m\u001b[0mtarget\u001b[0m\u001b[0;34m,\u001b[0m \u001b[0mlst\u001b[0m\u001b[0;34m,\u001b[0m \u001b[0mm\u001b[0m \u001b[0;34m+\u001b[0m \u001b[0;36m1\u001b[0m\u001b[0;34m,\u001b[0m \u001b[0me\u001b[0m\u001b[0;34m)\u001b[0m\u001b[0;34m\u001b[0m\u001b[0;34m\u001b[0m\u001b[0m\n\u001b[1;32m     10\u001b[0m         \u001b[0;32melse\u001b[0m\u001b[0;34m:\u001b[0m\u001b[0;34m\u001b[0m\u001b[0;34m\u001b[0m\u001b[0m\n\u001b[0;32m---> 11\u001b[0;31m             \u001b[0;32mreturn\u001b[0m \u001b[0mbisearch\u001b[0m\u001b[0;34m(\u001b[0m\u001b[0mtarget\u001b[0m\u001b[0;34m,\u001b[0m \u001b[0mlst\u001b[0m\u001b[0;34m,\u001b[0m \u001b[0ms\u001b[0m\u001b[0;34m,\u001b[0m \u001b[0mm\u001b[0m \u001b[0;34m-\u001b[0m \u001b[0;36m1\u001b[0m\u001b[0;34m)\u001b[0m\u001b[0;34m\u001b[0m\u001b[0;34m\u001b[0m\u001b[0m\n\u001b[0m\u001b[1;32m     12\u001b[0m     \u001b[0;32mreturn\u001b[0m \u001b[0;32mFalse\u001b[0m\u001b[0;34m\u001b[0m\u001b[0;34m\u001b[0m\u001b[0m\n",
      "\u001b[0;32m<ipython-input-23-8368cf3b8a5f>\u001b[0m in \u001b[0;36mbisearch\u001b[0;34m(target, lst, s, e)\u001b[0m\n\u001b[1;32m      9\u001b[0m             \u001b[0;32mreturn\u001b[0m \u001b[0mbisearch\u001b[0m\u001b[0;34m(\u001b[0m\u001b[0mtarget\u001b[0m\u001b[0;34m,\u001b[0m \u001b[0mlst\u001b[0m\u001b[0;34m,\u001b[0m \u001b[0mm\u001b[0m \u001b[0;34m+\u001b[0m \u001b[0;36m1\u001b[0m\u001b[0;34m,\u001b[0m \u001b[0me\u001b[0m\u001b[0;34m)\u001b[0m\u001b[0;34m\u001b[0m\u001b[0;34m\u001b[0m\u001b[0m\n\u001b[1;32m     10\u001b[0m         \u001b[0;32melse\u001b[0m\u001b[0;34m:\u001b[0m\u001b[0;34m\u001b[0m\u001b[0;34m\u001b[0m\u001b[0m\n\u001b[0;32m---> 11\u001b[0;31m             \u001b[0;32mreturn\u001b[0m \u001b[0mbisearch\u001b[0m\u001b[0;34m(\u001b[0m\u001b[0mtarget\u001b[0m\u001b[0;34m,\u001b[0m \u001b[0mlst\u001b[0m\u001b[0;34m,\u001b[0m \u001b[0ms\u001b[0m\u001b[0;34m,\u001b[0m \u001b[0mm\u001b[0m \u001b[0;34m-\u001b[0m \u001b[0;36m1\u001b[0m\u001b[0;34m)\u001b[0m\u001b[0;34m\u001b[0m\u001b[0;34m\u001b[0m\u001b[0m\n\u001b[0m\u001b[1;32m     12\u001b[0m     \u001b[0;32mreturn\u001b[0m \u001b[0;32mFalse\u001b[0m\u001b[0;34m\u001b[0m\u001b[0;34m\u001b[0m\u001b[0m\n",
      "\u001b[0;32m<ipython-input-23-8368cf3b8a5f>\u001b[0m in \u001b[0;36mbisearch\u001b[0;34m(target, lst, s, e)\u001b[0m\n\u001b[1;32m      9\u001b[0m             \u001b[0;32mreturn\u001b[0m \u001b[0mbisearch\u001b[0m\u001b[0;34m(\u001b[0m\u001b[0mtarget\u001b[0m\u001b[0;34m,\u001b[0m \u001b[0mlst\u001b[0m\u001b[0;34m,\u001b[0m \u001b[0mm\u001b[0m \u001b[0;34m+\u001b[0m \u001b[0;36m1\u001b[0m\u001b[0;34m,\u001b[0m \u001b[0me\u001b[0m\u001b[0;34m)\u001b[0m\u001b[0;34m\u001b[0m\u001b[0;34m\u001b[0m\u001b[0m\n\u001b[1;32m     10\u001b[0m         \u001b[0;32melse\u001b[0m\u001b[0;34m:\u001b[0m\u001b[0;34m\u001b[0m\u001b[0;34m\u001b[0m\u001b[0m\n\u001b[0;32m---> 11\u001b[0;31m             \u001b[0;32mreturn\u001b[0m \u001b[0mbisearch\u001b[0m\u001b[0;34m(\u001b[0m\u001b[0mtarget\u001b[0m\u001b[0;34m,\u001b[0m \u001b[0mlst\u001b[0m\u001b[0;34m,\u001b[0m \u001b[0ms\u001b[0m\u001b[0;34m,\u001b[0m \u001b[0mm\u001b[0m \u001b[0;34m-\u001b[0m \u001b[0;36m1\u001b[0m\u001b[0;34m)\u001b[0m\u001b[0;34m\u001b[0m\u001b[0;34m\u001b[0m\u001b[0m\n\u001b[0m\u001b[1;32m     12\u001b[0m     \u001b[0;32mreturn\u001b[0m \u001b[0;32mFalse\u001b[0m\u001b[0;34m\u001b[0m\u001b[0;34m\u001b[0m\u001b[0m\n",
      "\u001b[0;32m<ipython-input-23-8368cf3b8a5f>\u001b[0m in \u001b[0;36mbisearch\u001b[0;34m(target, lst, s, e)\u001b[0m\n\u001b[1;32m      9\u001b[0m             \u001b[0;32mreturn\u001b[0m \u001b[0mbisearch\u001b[0m\u001b[0;34m(\u001b[0m\u001b[0mtarget\u001b[0m\u001b[0;34m,\u001b[0m \u001b[0mlst\u001b[0m\u001b[0;34m,\u001b[0m \u001b[0mm\u001b[0m \u001b[0;34m+\u001b[0m \u001b[0;36m1\u001b[0m\u001b[0;34m,\u001b[0m \u001b[0me\u001b[0m\u001b[0;34m)\u001b[0m\u001b[0;34m\u001b[0m\u001b[0;34m\u001b[0m\u001b[0m\n\u001b[1;32m     10\u001b[0m         \u001b[0;32melse\u001b[0m\u001b[0;34m:\u001b[0m\u001b[0;34m\u001b[0m\u001b[0;34m\u001b[0m\u001b[0m\n\u001b[0;32m---> 11\u001b[0;31m             \u001b[0;32mreturn\u001b[0m \u001b[0mbisearch\u001b[0m\u001b[0;34m(\u001b[0m\u001b[0mtarget\u001b[0m\u001b[0;34m,\u001b[0m \u001b[0mlst\u001b[0m\u001b[0;34m,\u001b[0m \u001b[0ms\u001b[0m\u001b[0;34m,\u001b[0m \u001b[0mm\u001b[0m \u001b[0;34m-\u001b[0m \u001b[0;36m1\u001b[0m\u001b[0;34m)\u001b[0m\u001b[0;34m\u001b[0m\u001b[0;34m\u001b[0m\u001b[0m\n\u001b[0m\u001b[1;32m     12\u001b[0m     \u001b[0;32mreturn\u001b[0m \u001b[0;32mFalse\u001b[0m\u001b[0;34m\u001b[0m\u001b[0;34m\u001b[0m\u001b[0m\n",
      "\u001b[0;31mKeyboardInterrupt\u001b[0m: "
     ]
    }
   ],
   "source": [
    "result = []\n",
    "count = 0 \n",
    "ewords = len(words) - 1\n",
    "for w1 in words:\n",
    "    for w2 in words:\n",
    "        w = make_interlock(w1, w2)\n",
    "        if bisearch(w, words, 0, ewords):\n",
    "            count += 1\n",
    "            r = [count, w1, w2, w]\n",
    "            print(r)\n",
    "            result.append(r)\n",
    "pd.DataFrame(result, index=count)"
   ]
  },
  {
   "cell_type": "markdown",
   "metadata": {},
   "source": []
  }
 ],
 "metadata": {
  "kernelspec": {
   "display_name": "Python [conda env:root] *",
   "language": "python",
   "name": "conda-root-py"
  },
  "language_info": {
   "codemirror_mode": {
    "name": "ipython",
    "version": 3
   },
   "file_extension": ".py",
   "mimetype": "text/x-python",
   "name": "python",
   "nbconvert_exporter": "python",
   "pygments_lexer": "ipython3",
   "version": "3.8.5"
  }
 },
 "nbformat": 4,
 "nbformat_minor": 5
}
