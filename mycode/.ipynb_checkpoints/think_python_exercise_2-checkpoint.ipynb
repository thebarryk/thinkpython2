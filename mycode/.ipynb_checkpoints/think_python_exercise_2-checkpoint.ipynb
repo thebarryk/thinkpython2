{
 "cells": [
  {
   "cell_type": "code",
   "execution_count": 226,
   "metadata": {},
   "outputs": [],
   "source": [
    "import pandas as pd, re, os, math\n",
    "from collections import defaultdict"
   ]
  },
  {
   "cell_type": "markdown",
   "metadata": {},
   "source": [
    "## Ex 9.6  \n",
    "*Write a function called is_abecedarian that returns True if the letters in a word appear in alphabetical order (double letters are ok). How many abecedarian words are there?*"
   ]
  },
  {
   "cell_type": "code",
   "execution_count": 35,
   "metadata": {},
   "outputs": [],
   "source": [
    "def is_abecedarian(object_word):\n",
    "    if not object_word.isalpha():\n",
    "        return False\n",
    "    letter = (x.lower() for x in object_word)\n",
    "    previous = next(letter)\n",
    "    while True:\n",
    "        try:\n",
    "            this_letter = next(letter)\n",
    "            if previous > this_letter:\n",
    "                return False\n",
    "            else:\n",
    "                previous = this_letter\n",
    "        except:\n",
    "            break\n",
    "    return True\n"
   ]
  },
  {
   "cell_type": "code",
   "execution_count": 36,
   "metadata": {},
   "outputs": [
    {
     "data": {
      "text/plain": [
       "False"
      ]
     },
     "execution_count": 36,
     "metadata": {},
     "output_type": "execute_result"
    }
   ],
   "source": [
    "is_abecedarian(\"abdbf p\")"
   ]
  },
  {
   "cell_type": "code",
   "execution_count": 41,
   "metadata": {},
   "outputs": [
    {
     "name": "stdout",
     "output_type": "stream",
     "text": [
      "There are 596 abecedarian words in file words.txt\n"
     ]
    }
   ],
   "source": [
    "with open(\"../code/words.txt\") as fin:\n",
    "    words = (word.strip() for word in fin.readlines())\n",
    "\n",
    "c = 0\n",
    "count = 0\n",
    "for word in words:\n",
    "    c += 1\n",
    "    if c>500000000:\n",
    "        break\n",
    "    if is_abecedarian(word):\n",
    "        count += 1\n",
    "        \n",
    "print(f\"There are {count} abecedarian words in file words.txt\")"
   ]
  },
  {
   "cell_type": "markdown",
   "metadata": {},
   "source": [
    "## Ex 9.7\n",
    "*his question is based on a Puzzler that was broadcast on the radio program Car Talk (http://www.cartalk.com/content/puzzlers):*\n",
    "\n",
    "*Give me a word with three consecutive double letters. I’ll give you a couple of words that almost qualify, but don’t. For example, the word committee, c-o-m-m-i-t-t-e-e. It would be great except for the ‘i’ that sneaks in there. Or Mississippi: M-i-s-s-i-s-s-i-p-p-i. If you could take out those i’s it would work. But there is a word that has three consecutive pairs of letters and to the best of my knowledge this may be the only word. Of course there are probably 500 more but I can only think of one. What is the word?*"
   ]
  },
  {
   "cell_type": "code",
   "execution_count": 79,
   "metadata": {},
   "outputs": [],
   "source": [
    "def xis_3doubles(word):\n",
    "    def is_3(w):\n",
    "        if len(w)<6:\n",
    "            return False\n",
    "        return w[0]==w[1] and w[2]==w[3] and w[4]==w[5]\n",
    "\n",
    "    for i in range(0,len(word)-5):\n",
    "        if is_3(word[i:]):\n",
    "            return True\n",
    "    return False"
   ]
  },
  {
   "cell_type": "code",
   "execution_count": 83,
   "metadata": {},
   "outputs": [],
   "source": [
    "def is_3doubles(w):\n",
    "    if len(w) < 6:\n",
    "        return False\n",
    "    if w[0]==w[1] and w[2]==w[3] and w[4]==w[5]:\n",
    "        return True\n",
    "    else:\n",
    "        return is_3doubles(w[1:])"
   ]
  },
  {
   "cell_type": "code",
   "execution_count": 87,
   "metadata": {},
   "outputs": [
    {
     "data": {
      "text/plain": [
       "False"
      ]
     },
     "execution_count": 87,
     "metadata": {},
     "output_type": "execute_result"
    }
   ],
   "source": [
    "is_3doubles(\"beekeeper\")"
   ]
  },
  {
   "cell_type": "code",
   "execution_count": 89,
   "metadata": {},
   "outputs": [
    {
     "name": "stdout",
     "output_type": "stream",
     "text": [
      "bookkeeper\n",
      "bookkeepers\n",
      "bookkeeping\n",
      "bookkeepings\n",
      "There are 4 words with 3 consecutive double letters in file words.txt\n"
     ]
    }
   ],
   "source": [
    "with open(\"../code/words.txt\") as fin:\n",
    "    words = (word.strip() for word in fin.readlines())\n",
    "\n",
    "c = 0\n",
    "count = 0\n",
    "for word in words:\n",
    "    c += 1\n",
    "    if c>500000000:\n",
    "        break\n",
    "    if is_3doubles(word):\n",
    "        print(word)\n",
    "        count += 1\n",
    "        \n",
    "print(f\"There are {count} words with 3 consecutive double letters in file words.txt\")"
   ]
  },
  {
   "cell_type": "markdown",
   "metadata": {},
   "source": [
    "## Ex 9.8   \n",
    "*Here’s another Car Talk Puzzler (http://www.cartalk.com/content/puzzlers):\n",
    "“I was driving on the highway the other day and I happened to notice my odometer. Like most odometers, it shows six digits, in whole miles only. So, if my car had 300,000 miles, for example, I’d see 3-0-0-0-0-0.\n",
    "“Now, what I saw that day was very interesting. I noticed that the last 4 digits were palindromic; that is, they read the same forward as backward. For example, 5-4-4-5 is a palindrome, so my odometer could have read 3-1-5-4-4-5.*\n",
    "\n",
    "*“One mile later, the last 5 numbers were palindromic. For example, it could have read 3-6-5-4-5-6. One mile after that, the middle 4 out of 6 numbers were palindromic. And you ready for this? One mile later, all 6 were palindromic!*\n",
    "\n",
    "*“The question is, what was on the odometer when I first looked?”*\n",
    "\n",
    "*Write a Python program that tests all the six-digit numbers and prints any numbers that satisfy these requirements. Solution: http://thinkpython2.com/code/cartalk2.py.*"
   ]
  },
  {
   "cell_type": "code",
   "execution_count": 218,
   "metadata": {},
   "outputs": [],
   "source": [
    "\n",
    "debug = False\n",
    "\n",
    "def is_palindrome(word):\n",
    "    return word[:] == word[::-1]\n",
    "\n",
    "def dprint(str):\n",
    "    if debug: print(str)\n",
    "\n",
    "def is_4palindromes(n):\n",
    "    # 1st: Last 4 of n are palindromic\n",
    "    s1 = f\"{n:06}\"[2:6]\n",
    "    if is_palindrome(s1):\n",
    "#         dprint(f\">> n:{n:06} s1:{s1}\")\n",
    "        # 2nd: At next mile last 5 of (n+1) are palindromic\n",
    "        s2 = f\"{n+1:06}\"[1:6]\n",
    "        if is_palindrome(s2):\n",
    "            dprint(f\">> n:{n:06} s1:{s1} s2:{s2}\")\n",
    "            # 3rd: At next mile middle 4 of (n+2) are palindromic\n",
    "            s3 = f\"{n+2:06}\"[1:5]\n",
    "            if is_palindrome(s3):\n",
    "                dprint(f\">>> n:{n:06} s1:{s1} s2:{s2} s3:{s3}\")\n",
    "                # 4th: At next mile all of (n+3) are palindromic\n",
    "                s4 = f\"{n+3:06}\"\n",
    "                if is_palindrome(s4):\n",
    "                    dprint(f\">>>> n:{n:06} s1:{s1} s2:{s2} s3:{s3} s4:{s4}\")\n",
    "                    return True\n",
    "    return False"
   ]
  },
  {
   "cell_type": "code",
   "execution_count": 219,
   "metadata": {},
   "outputs": [
    {
     "name": "stdout",
     "output_type": "stream",
     "text": [
      "198888\n",
      "199999\n",
      "There are 2 numbers that solve Cartalk Puzzler #2\n"
     ]
    }
   ],
   "source": [
    "c = 0; mx=1000000\n",
    "count = 0\n",
    "xrange = (n for n in range(1000000))\n",
    "\n",
    "for n in xrange:\n",
    "    c += 1\n",
    "    if c>mx:\n",
    "        break\n",
    "    if is_4palindromes(n):\n",
    "        print(f\"{n:06}\")\n",
    "        count += 1\n",
    "        \n",
    "print(f\"There are {count} numbers that solve Cartalk Puzzler #2\")"
   ]
  },
  {
   "cell_type": "markdown",
   "metadata": {},
   "source": [
    "## Ex 9.9\n",
    "*Here’s another Car Talk Puzzler you can solve with a search (http://www.cartalk.com/content/puzzlers):*\n",
    "\n",
    "*“Recently I had a visit with my mom and we realized that the two digits that make up my age when reversed resulted in her age. For example, if she’s 73, I’m 37. We wondered how often this has happened over the years but we got sidetracked with other topics and we never came up with an answer.\n",
    "“When I got home I figured out that the digits of our ages have been reversible six times so far. I also figured out that if we’re lucky it would happen again in a few years, and if we’re really lucky it would happen one more time after that. In other words, it would have happened 8 times over all. So the question is, how old am I now?”*\n",
    "\n",
    "*Write a Python program that searches for solutions to this Puzzler. Hint: you might find the string method zfill useful.*"
   ]
  },
  {
   "cell_type": "code",
   "execution_count": 215,
   "metadata": {},
   "outputs": [],
   "source": [
    "def is_npalindrome(n):\n",
    "    return is_palindrome(str(n).zfill(4))\n"
   ]
  },
  {
   "cell_type": "code",
   "execution_count": 238,
   "metadata": {},
   "outputs": [
    {
     "name": "stdout",
     "output_type": "stream",
     "text": [
      "both: 0440 Me: 04 Mom:40\n",
      "both: 1551 Me: 15 Mom:51\n",
      "both: 2662 Me: 26 Mom:62\n",
      "both: 3773 Me: 37 Mom:73\n",
      "Our ages are reversed 4 times.\n",
      "0440 1\n",
      "1551 1\n",
      "2662 1\n",
      "3773 1\n"
     ]
    }
   ],
   "source": [
    "c = 0 \n",
    "debug = True\n",
    "ages = defaultdict(int)\n",
    "for n in range(3774):\n",
    "    if is_npalindrome(n):\n",
    "        both = str(n).zfill(4)\n",
    "        me = both[0:2]\n",
    "        mom = both[2:4]\n",
    "        if int(mom)-int(me) == 36:\n",
    "            c += 1\n",
    "            dprint(f\"both: {both} Me: {me} Mom:{mom}\")\n",
    "            ages[both] =+ 1\n",
    "            \n",
    "print(f\"Our ages are reversed {c} times.\")\n",
    "for k,v in ages.items():\n",
    "    print(k,v)\n",
    "report = pd.DataFrame(ages, index=[0])"
   ]
  },
  {
   "cell_type": "code",
   "execution_count": 233,
   "metadata": {},
   "outputs": [
    {
     "data": {
      "text/html": [
       "<div>\n",
       "<style scoped>\n",
       "    .dataframe tbody tr th:only-of-type {\n",
       "        vertical-align: middle;\n",
       "    }\n",
       "\n",
       "    .dataframe tbody tr th {\n",
       "        vertical-align: top;\n",
       "    }\n",
       "\n",
       "    .dataframe thead th {\n",
       "        text-align: right;\n",
       "    }\n",
       "</style>\n",
       "<table border=\"1\" class=\"dataframe\">\n",
       "  <thead>\n",
       "    <tr style=\"text-align: right;\">\n",
       "      <th></th>\n",
       "      <th>9999</th>\n",
       "    </tr>\n",
       "  </thead>\n",
       "  <tbody>\n",
       "    <tr>\n",
       "      <th>0</th>\n",
       "      <td>1</td>\n",
       "    </tr>\n",
       "  </tbody>\n",
       "</table>\n",
       "</div>"
      ],
      "text/plain": [
       "   9999\n",
       "0     1"
      ]
     },
     "execution_count": 233,
     "metadata": {},
     "output_type": "execute_result"
    }
   ],
   "source": [
    "report"
   ]
  },
  {
   "cell_type": "code",
   "execution_count": null,
   "metadata": {},
   "outputs": [],
   "source": []
  }
 ],
 "metadata": {
  "kernelspec": {
   "display_name": "Python 3",
   "language": "python",
   "name": "python3"
  },
  "language_info": {
   "codemirror_mode": {
    "name": "ipython",
    "version": 3
   },
   "file_extension": ".py",
   "mimetype": "text/x-python",
   "name": "python",
   "nbconvert_exporter": "python",
   "pygments_lexer": "ipython3",
   "version": "3.8.5"
  }
 },
 "nbformat": 4,
 "nbformat_minor": 4
}
