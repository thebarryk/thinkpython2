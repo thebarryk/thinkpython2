{
 "cells": [
  {
   "cell_type": "code",
   "execution_count": 1,
   "metadata": {},
   "outputs": [],
   "source": [
    "import math\n",
    "import pandas as pd\n",
    "from collections import defaultdict"
   ]
  },
  {
   "cell_type": "code",
   "execution_count": 2,
   "metadata": {},
   "outputs": [],
   "source": [
    "# Simple recursive program\n",
    "def countdown(n):\n",
    "    if n>0:\n",
    "        print(n)\n",
    "        countdown(n-1)\n",
    "    else:\n",
    "        print(\"Blastoff!\")"
   ]
  },
  {
   "cell_type": "code",
   "execution_count": 3,
   "metadata": {},
   "outputs": [
    {
     "name": "stdout",
     "output_type": "stream",
     "text": [
      "10\n",
      "9\n",
      "8\n",
      "7\n",
      "6\n",
      "5\n",
      "4\n",
      "3\n",
      "2\n",
      "1\n",
      "Blastoff!\n"
     ]
    }
   ],
   "source": [
    "countdown(10)"
   ]
  },
  {
   "cell_type": "code",
   "execution_count": 4,
   "metadata": {},
   "outputs": [
    {
     "name": "stdout",
     "output_type": "stream",
     "text": [
      "Current epoch time: 1634835557.4770198 which is 454120:59:17 expressed as hh:mm:ss.\n"
     ]
    }
   ],
   "source": [
    "# 5.14: 5.1\n",
    "import time\n",
    "\n",
    "sec_in_min = 60\n",
    "sec_in_hr  = 60 * sec_in_min\n",
    "\n",
    "t = time.time()\n",
    "\n",
    "def clock(t):\n",
    "    nh, ns = t  // sec_in_hr,    t % sec_in_hr\n",
    "    nm, ns = ns // sec_in_min, ns % sec_in_min\n",
    "    return f\"{nh:02n}:{nm:02n}:{int(ns):02n}\"\n",
    "\n",
    "print(f\"Current epoch time: {t} which is {clock(t)} expressed as hh:mm:ss.\")\n"
   ]
  },
  {
   "cell_type": "code",
   "execution_count": 5,
   "metadata": {},
   "outputs": [],
   "source": [
    "# 5.14 5.2\n",
    "active=False\n",
    "\n",
    "def check_fermat(a, b, c, n):\n",
    "    if n <= 2:\n",
    "        print(\"No, that doesn't work.\")\n",
    "        return\n",
    "    lh = a**n + b**n\n",
    "    rh = c**n\n",
    "    if lh == rh:\n",
    "        print(f\"Fermat's theorem holds. ({a:n}**{n} + {b:n}**{n} = {lh:n}) != ({c:n}**{n} = {rh:n}).\")\n",
    "    else:\n",
    "        print(f\"Holy smokes, Fermat was wrong! ({a:n}**{n} + {b:n}**{n} = {lh:n}) != ({c:n}**{n} = {rh:n}).\")\n",
    "    \n",
    "def main():\n",
    "    print(\"Testing Fermat's Theorem: a**n + b**n = c**n\")\n",
    "    while True:\n",
    "        ans = input(\"a b c n ? \")\n",
    "        try:\n",
    "            a,b,c,n = ans.split()\n",
    "            a,b,c,n = int(a), int(b), int(c), int(n)\n",
    "        except:\n",
    "            print(\"Input error. Done!\")\n",
    "            break\n",
    "        check_fermat(a,b,c,n)\n",
    "\n",
    "if active: main() "
   ]
  },
  {
   "cell_type": "code",
   "execution_count": 6,
   "metadata": {},
   "outputs": [],
   "source": [
    "# 5.14 5.3\n",
    "\n",
    "active = False\n",
    "\n",
    "def is_triangle(a, b, c):\n",
    "    if a+b > c and b+c > a and c+a > b:\n",
    "        print(\"Yes\")\n",
    "    else:\n",
    "        print(\"No\")   \n",
    "\n",
    "def main():\n",
    "    print(\"Testing when triangle can be formed from 3 sticks.\")\n",
    "    while True:\n",
    "        ans = input(\"Provide 3 stick lengths to test s1 s2 s3 ?\")\n",
    "        try:\n",
    "            s = [ int(s) for s in ans.split() ]\n",
    "        except:\n",
    "            print(\"Input error. Done!\")\n",
    "            break\n",
    "        is_triangle(s[0], s[1], s[2])\n",
    "\n",
    "if active: main()\n"
   ]
  },
  {
   "cell_type": "code",
   "execution_count": 7,
   "metadata": {},
   "outputs": [
    {
     "name": "stdout",
     "output_type": "stream",
     "text": [
      "compare(1,2): -1\n",
      "compare(2,2): 0\n",
      "compare(2,1): 1\n"
     ]
    }
   ],
   "source": [
    "def compare(x, y):\n",
    "    if x > y:\n",
    "        return 1\n",
    "    elif x == y:\n",
    "        return 0\n",
    "    else:\n",
    "        return -1       \n",
    "\n",
    "print(f\"compare(1,2): {compare(1,2)}\")\n",
    "print(f\"compare(2,2): {compare(2,2)}\")\n",
    "print(f\"compare(2,1): {compare(2,1)}\")"
   ]
  },
  {
   "cell_type": "code",
   "execution_count": 8,
   "metadata": {},
   "outputs": [
    {
     "name": "stdout",
     "output_type": "stream",
     "text": [
      "hypoteneuse(3, 4): 5.0\n"
     ]
    }
   ],
   "source": [
    "# Hypoteneuse\n",
    "def hypoteneuse(x, y):\n",
    "    hsquared = x**2 + y**2\n",
    "    result = math.sqrt(hsquared)\n",
    "    return result\n",
    "\n",
    "x = 3\n",
    "y = 4\n",
    "print(f\"hypoteneuse({x}, {y}): {hypoteneuse(x, y)}\")\n"
   ]
  },
  {
   "cell_type": "code",
   "execution_count": 9,
   "metadata": {},
   "outputs": [
    {
     "name": "stdout",
     "output_type": "stream",
     "text": [
      "is_between(1, 11, 10): False\n"
     ]
    }
   ],
   "source": [
    "def is_between(x, y, z):\n",
    "    return x <=  y <= z\n",
    "\n",
    "x = 1\n",
    "y = 11\n",
    "z = 10\n",
    "print(f\"is_between({x}, {y}, {z}): {is_between(x, y, z)}\")\n"
   ]
  },
  {
   "cell_type": "code",
   "execution_count": 10,
   "metadata": {},
   "outputs": [
    {
     "name": "stdout",
     "output_type": "stream",
     "text": [
      "fact(5): 120\n"
     ]
    }
   ],
   "source": [
    "def fact(n):\n",
    "    if n<2:\n",
    "        return 1\n",
    "    return n*fact(n-1)\n",
    "\n",
    "n = 5\n",
    "print(f\"fact({n}): {fact(n)}\")"
   ]
  },
  {
   "cell_type": "code",
   "execution_count": 11,
   "metadata": {},
   "outputs": [
    {
     "name": "stdout",
     "output_type": "stream",
     "text": [
      "9 90\n",
      "8100\n"
     ]
    }
   ],
   "source": [
    "def b(z):\n",
    "    prod = a(z, z)\n",
    "    print(z, prod)\n",
    "    return prod\n",
    "\n",
    "def a(x, y):\n",
    "    x = x + 1\n",
    "    return x * y\n",
    "\n",
    "def c(x, y, z):\n",
    "    total = x + y + z\n",
    "    square = b(total)**2\n",
    "    return square\n",
    "\n",
    "x = 1\n",
    "y = x + 1\n",
    "print(c(x, y+3, x+y))"
   ]
  },
  {
   "cell_type": "code",
   "execution_count": 12,
   "metadata": {},
   "outputs": [
    {
     "name": "stdout",
     "output_type": "stream",
     "text": [
      "ack(3, 4) = 125\n"
     ]
    }
   ],
   "source": [
    "# Ex 6.2 Ackerman\n",
    "def ack(m, n):\n",
    "    \n",
    "    if ( not isinstance(n, int) \\\n",
    "        or not isinstance(n, int) ) \\\n",
    "        or m < 0 \\\n",
    "        or n < 0:\n",
    "        print(\"Please use whole numbers, m>=0 and n>=0.\")\n",
    "        return\n",
    "        \n",
    "    if m == 0:\n",
    "        return n+1\n",
    "    if n == 0:\n",
    "        return ack(m-1, 1)\n",
    "    return ack(m-1, ack(m, n-1))\n",
    "\n",
    "m = 3\n",
    "n = 4\n",
    "\n",
    "print(f\"ack({m}, {n}) = {ack(m, n)}\")\n"
   ]
  },
  {
   "cell_type": "markdown",
   "metadata": {},
   "source": [
    "# Ex 6.3 Palindrome\n",
    "*A palindrome is a word that is spelled the same backward and forward, like “noon” and “redivider”. Recursively, a word is a palindrome if the first and last letters are the same and the middle is a palindrome.*"
   ]
  },
  {
   "cell_type": "code",
   "execution_count": 13,
   "metadata": {},
   "outputs": [],
   "source": [
    "def first(word):\n",
    "    return word[0]\n",
    "\n",
    "def last(word):\n",
    "    return word[-1]\n",
    "\n",
    "def middle(word):\n",
    "    return word[1:-1]\n",
    "\n"
   ]
  },
  {
   "cell_type": "code",
   "execution_count": 14,
   "metadata": {},
   "outputs": [
    {
     "name": "stdout",
     "output_type": "stream",
     "text": [
      "first(w) is w\n",
      "last(w) is w\n",
      "middle(w) is \n"
     ]
    }
   ],
   "source": [
    "w = \"w\"\n",
    "print(f\"first({w}) is {first(w)}\")\n",
    "print(f\"last({w}) is {last(w)}\")\n",
    "print(f\"middle({w}) is {middle(w)}\")\n"
   ]
  },
  {
   "cell_type": "code",
   "execution_count": 15,
   "metadata": {},
   "outputs": [
    {
     "name": "stdout",
     "output_type": "stream",
     "text": [
      "is_palindrome('wollow') is True\n"
     ]
    }
   ],
   "source": [
    "def is_palindrome(w):\n",
    "    if len(w) == 0:\n",
    "        return True\n",
    "    if first(w) != last(w):\n",
    "        return False\n",
    "    return is_palindrome(middle(w))\n",
    "\n",
    "w = \"wollow\"\n",
    "print(f\"is_palindrome('{w}') is {is_palindrome(w)}\")\n",
    "          "
   ]
  },
  {
   "cell_type": "markdown",
   "metadata": {},
   "source": [
    "# Ex 6.4\n",
    "*A number, a, is a power of b if it is divisible by b and a/b is a power of b. Write a function called is_power that takes parameters a and b and returns True if a is a power of b. Note: you will have to think about the base case.*"
   ]
  },
  {
   "cell_type": "code",
   "execution_count": 16,
   "metadata": {},
   "outputs": [
    {
     "name": "stdout",
     "output_type": "stream",
     "text": [
      "is_power(15, 2) is False\n"
     ]
    }
   ],
   "source": [
    "def is_power(a, b):\n",
    "    def is_divisible(a, b):\n",
    "        return a%b == 0\n",
    "    if a <= 0  or b <= 0:\n",
    "        print(\"Please do not use 0's and negative numbers\")\n",
    "    if a < b:\n",
    "        return False\n",
    "    if b == 1:\n",
    "        return True\n",
    "    if a == b:\n",
    "        return True\n",
    "    if is_divisible(a, b) and is_power(a/b, b):\n",
    "        return True\n",
    "    return False\n",
    "        \n",
    "a = 15\n",
    "b = 2\n",
    "print(f\"is_power({a}, {b}) is {is_power(a,b)}\")\n",
    "\n"
   ]
  },
  {
   "cell_type": "markdown",
   "metadata": {},
   "source": [
    "# Ex 6.5 GCD\n",
    "*The greatest common divisor (GCD) of a and b is the largest number that divides both of them with no remainder.\n",
    "\n",
    "One way to find the GCD of two numbers is based on the observation that if r is the remainder when a is divided by b, then gcd(a, b) = gcd(b, r). As a base case, we can use gcd(a, 0) = a.\n",
    "\n",
    "Write a function called gcd that takes parameters a and b and returns their greatest common divisor."
   ]
  },
  {
   "cell_type": "code",
   "execution_count": 17,
   "metadata": {},
   "outputs": [
    {
     "name": "stdout",
     "output_type": "stream",
     "text": [
      "All numbers divide into 0 evenly.\n",
      "is_gcd(0, 0) is None.\n"
     ]
    }
   ],
   "source": [
    "\n",
    "def gcd(a, b):\n",
    "    \n",
    "    if b == 0:\n",
    "        if a == 0:\n",
    "            print(\"All numbers divide into 0 evenly.\")\n",
    "            return\n",
    "        else:\n",
    "            return a\n",
    "    remainder = a%b\n",
    "    return gcd(b, remainder)\n",
    "\n",
    "a = 0\n",
    "b = 0\n",
    "print(f\"is_gcd({a}, {b}) is {gcd(a,b)}.\")\n",
    "\n"
   ]
  },
  {
   "cell_type": "code",
   "execution_count": 18,
   "metadata": {},
   "outputs": [
    {
     "name": "stdout",
     "output_type": "stream",
     "text": [
      "10\n",
      "9\n",
      "8\n",
      "7\n",
      "6\n",
      "5\n",
      "4\n",
      "3\n",
      "2\n",
      "1\n",
      "Blastoff!\n"
     ]
    }
   ],
   "source": [
    "# Rewrite of recursive blastoff program\n",
    "\n",
    "n = 10\n",
    "while n > 0:\n",
    "    print(n)\n",
    "    n -= 1\n",
    "print(\"Blastoff!\")"
   ]
  },
  {
   "cell_type": "markdown",
   "metadata": {},
   "source": [
    "## Ex 7.1 Iteration\n",
    "Copy the loop from Section 7.5 and encapsulate it in a function called mysqrt that takes a as a parameter, chooses a reasonable value of x, and returns an estimate of the square root of a.\n",
    "\n",
    "To test it, write a function named test_square_root that prints a table like this:\n",
    "\n",
    "Make a table where the first column is a number, a; the second column is the square root of a computed with mysqrt; the third column is the square root computed by math.sqrt; the fourth column is the absolute value of the difference between the two estimates."
   ]
  },
  {
   "cell_type": "code",
   "execution_count": 19,
   "metadata": {},
   "outputs": [],
   "source": [
    "def mysqrt(x, eps=1E-10):\n",
    "    if x == 0:\n",
    "        return 0\n",
    "\n",
    "    estimate = x/2.\n",
    "    while True:\n",
    "        new_estimate = (estimate + x/estimate) / 2\n",
    "        if abs(estimate - new_estimate) < eps:\n",
    "            return new_estimate\n",
    "        estimate = new_estimate\n",
    "    print(\"Answer did not converge with {eps}\")\n",
    "    return(estimate)"
   ]
  },
  {
   "cell_type": "code",
   "execution_count": 20,
   "metadata": {},
   "outputs": [
    {
     "name": "stdout",
     "output_type": "stream",
     "text": [
      "    a       mysqrt(a)    math.sqrt(a)              diff\n",
      "===== =============== =============== =================\n",
      "1.00              1.0             1.0               0.0\n",
      "2.00    1.41421356237   1.41421356237 2.22044604925e-16\n",
      "3.00    1.73205080757   1.73205080757               0.0\n",
      "4.00              2.0             2.0               0.0\n",
      "5.00     2.2360679775    2.2360679775               0.0\n",
      "6.00    2.44948974278   2.44948974278               0.0\n",
      "7.00    2.64575131106   2.64575131106               0.0\n",
      "8.00    2.82842712475   2.82842712475  4.4408920985e-16\n",
      "9.00              3.0             3.0               0.0\n"
     ]
    }
   ],
   "source": [
    "print(f'{\"a\":>5} {\"mysqrt(a)\":>15} {\"math.sqrt(a)\":>15} {\"diff\":>17}')\n",
    "print(f'{\"=\"*5:<5} {\"=\"*15:15} {\"=\"*15:15} {\"=\"*17:17}')\n",
    "\n",
    "for n in range(9):\n",
    "    x = float(n+1)\n",
    "    builtin = math.sqrt(x)\n",
    "    newton = mysqrt(x)\n",
    "    diff = abs(builtin - newton)\n",
    "    print(f\"{x:<5.2f} {newton:15.12} {builtin:15.12} {diff:17.12}\")"
   ]
  },
  {
   "cell_type": "markdown",
   "metadata": {},
   "source": [
    "## Ex 7.2\n",
    "The built-in function eval takes a string and evaluates it using the Python interpreter. For example:\n",
    "\n",
    "~~~\n",
    ">>> eval('1 + 2 * 3')\n",
    "7\n",
    ">>> import math\n",
    ">>> eval('math.sqrt(5)')\n",
    "2.2360679774997898\n",
    ">>> eval('type(math.pi)')\n",
    "<class 'float'>\n",
    "~~~\n",
    "\n",
    "Write a function called eval_loop that iteratively prompts the user, takes the resulting input and evaluates it using eval, and prints the result.\n",
    "\n",
    "It should continue until the user enters 'done', and then return the value of the last expression it evaluated."
   ]
  },
  {
   "cell_type": "code",
   "execution_count": 21,
   "metadata": {},
   "outputs": [],
   "source": [
    "def eval_loop(str):\n",
    "    print(str)\n",
    "    \n",
    "def main():\n",
    "    while True:\n",
    "        ans = input(\">>> \")\n",
    "        if ans == \"done\":\n",
    "            break\n",
    "\n",
    "        print(f\"{eval(ans)}\")\n",
    "\n",
    "if active: main()"
   ]
  },
  {
   "cell_type": "markdown",
   "metadata": {},
   "source": [
    "## Ex 7.3 Ramanujan \n",
    "The mathematician Srinivasa Ramanujan found an infinite series that can be used to generate a numerical approximation of 1 / π.\n",
    "Write a function called estimate_pi that uses this formula to compute and return an estimate of π. It should use a while loop to compute terms of the summation until the last term is smaller than 1e-15 (which is Python notation for 10−15). You can check the result by comparing it to math.pi."
   ]
  },
  {
   "cell_type": "code",
   "execution_count": 22,
   "metadata": {},
   "outputs": [],
   "source": [
    "def factorial():\n",
    "    n, c = 0, 1\n",
    "#     print(n, c)\n",
    "    yield c\n",
    "    while True:\n",
    "        n += 1\n",
    "        c *= n\n",
    "#         print(n, c)\n",
    "        yield c\n",
    "\n",
    "def factorial4():\n",
    "    n, c = 0, 1\n",
    "#     print(n, c)\n",
    "    yield c\n",
    "    while True:\n",
    "        n += 4\n",
    "        c = c * n * (n-1) * (n-2) * (n-3)\n",
    "#         print(n, c)\n",
    "        yield c\n",
    "\n",
    "def test_factorials(mx):\n",
    "    f = factorial()\n",
    "    f4 = factorial4()\n",
    "    print(f\"{'k':<5} {'k!':<10} {'4k':<5} {'(4k)!':<}\")\n",
    "    print(f\"{5*'=':<5} {10*'=':<10} {5*'=':<5} {55*'=':<}\")\n",
    "    for k in range(mx):\n",
    "        print(f\"{k:<5} {next(f):<10,} {4*k:<5} {next(f4):<,}\")            \n",
    "\n",
    "def xtest_factorials(mx):\n",
    "    f = factorial()\n",
    "    f4 = factorial4()\n",
    "\n",
    "    r = defaultdict(list)\n",
    "    \n",
    "    for k in range(mx):\n",
    "        r['k!'].append(next(f))\n",
    "        r['4k'].append(4*k)\n",
    "        r['(4k)!'].append(next(f4))\n",
    "\n",
    "    return pd.DataFrame(r)\n"
   ]
  },
  {
   "cell_type": "code",
   "execution_count": 23,
   "metadata": {},
   "outputs": [
    {
     "data": {
      "text/html": [
       "<div>\n",
       "<style scoped>\n",
       "    .dataframe tbody tr th:only-of-type {\n",
       "        vertical-align: middle;\n",
       "    }\n",
       "\n",
       "    .dataframe tbody tr th {\n",
       "        vertical-align: top;\n",
       "    }\n",
       "\n",
       "    .dataframe thead th {\n",
       "        text-align: right;\n",
       "    }\n",
       "</style>\n",
       "<table border=\"1\" class=\"dataframe\">\n",
       "  <thead>\n",
       "    <tr style=\"text-align: right;\">\n",
       "      <th></th>\n",
       "      <th>k!</th>\n",
       "      <th>4k</th>\n",
       "      <th>(4k)!</th>\n",
       "    </tr>\n",
       "  </thead>\n",
       "  <tbody>\n",
       "    <tr>\n",
       "      <th>0</th>\n",
       "      <td>1</td>\n",
       "      <td>0</td>\n",
       "      <td>1</td>\n",
       "    </tr>\n",
       "    <tr>\n",
       "      <th>1</th>\n",
       "      <td>1</td>\n",
       "      <td>4</td>\n",
       "      <td>24</td>\n",
       "    </tr>\n",
       "    <tr>\n",
       "      <th>2</th>\n",
       "      <td>2</td>\n",
       "      <td>8</td>\n",
       "      <td>40320</td>\n",
       "    </tr>\n",
       "    <tr>\n",
       "      <th>3</th>\n",
       "      <td>6</td>\n",
       "      <td>12</td>\n",
       "      <td>479001600</td>\n",
       "    </tr>\n",
       "    <tr>\n",
       "      <th>4</th>\n",
       "      <td>24</td>\n",
       "      <td>16</td>\n",
       "      <td>20922789888000</td>\n",
       "    </tr>\n",
       "    <tr>\n",
       "      <th>5</th>\n",
       "      <td>120</td>\n",
       "      <td>20</td>\n",
       "      <td>2432902008176640000</td>\n",
       "    </tr>\n",
       "    <tr>\n",
       "      <th>6</th>\n",
       "      <td>720</td>\n",
       "      <td>24</td>\n",
       "      <td>620448401733239439360000</td>\n",
       "    </tr>\n",
       "    <tr>\n",
       "      <th>7</th>\n",
       "      <td>5040</td>\n",
       "      <td>28</td>\n",
       "      <td>304888344611713860501504000000</td>\n",
       "    </tr>\n",
       "    <tr>\n",
       "      <th>8</th>\n",
       "      <td>40320</td>\n",
       "      <td>32</td>\n",
       "      <td>263130836933693530167218012160000000</td>\n",
       "    </tr>\n",
       "    <tr>\n",
       "      <th>9</th>\n",
       "      <td>362880</td>\n",
       "      <td>36</td>\n",
       "      <td>371993326789901217467999448150835200000000</td>\n",
       "    </tr>\n",
       "  </tbody>\n",
       "</table>\n",
       "</div>"
      ],
      "text/plain": [
       "       k!  4k                                       (4k)!\n",
       "0       1   0                                           1\n",
       "1       1   4                                          24\n",
       "2       2   8                                       40320\n",
       "3       6  12                                   479001600\n",
       "4      24  16                              20922789888000\n",
       "5     120  20                         2432902008176640000\n",
       "6     720  24                    620448401733239439360000\n",
       "7    5040  28              304888344611713860501504000000\n",
       "8   40320  32        263130836933693530167218012160000000\n",
       "9  362880  36  371993326789901217467999448150835200000000"
      ]
     },
     "execution_count": 23,
     "metadata": {},
     "output_type": "execute_result"
    }
   ],
   "source": [
    "xtest_factorials(10)"
   ]
  },
  {
   "cell_type": "code",
   "execution_count": 24,
   "metadata": {},
   "outputs": [],
   "source": [
    "def estimate_pi(eps=1e-15, mx=10):\n",
    "    \n",
    "    c = 2*math.sqrt(2)/9801\n",
    "\n",
    "    fact  = factorial()\n",
    "    fact4 = factorial4()\n",
    "    \n",
    "    p1 = lambda k: next(fact4) * (1103 + 26390*k) / math.pow(next(fact), 4)\n",
    "    p2 = lambda k: p1(k) / math.pow(396, 4*k)\n",
    "    \n",
    "    k = 0\n",
    "    sum = p1(0)\n",
    "    print(f\"c*sum={c * sum}\")\n",
    "    for k in range(1, mx):\n",
    "        term = p2(k)\n",
    "        print(f\"k={k} term={term}\")\n",
    "        if abs(term ) <= eps:\n",
    "            return 1/(c * sum)\n",
    "        else:\n",
    "            sum += term\n",
    "    print(\"Did not converge within {eps} in {mx} iterations\")\n",
    "    return 1/(c * sum)\n",
    "    \n",
    "    "
   ]
  },
  {
   "cell_type": "code",
   "execution_count": 25,
   "metadata": {},
   "outputs": [
    {
     "name": "stdout",
     "output_type": "stream",
     "text": [
      "c*sum=0.31830987844047015\n",
      "k=1 term=2.6831974348925308e-05\n",
      "k=2 term=2.2453850201136646e-13\n",
      "k=3 term=1.995074994495897e-21\n",
      "3.141592653589793 3.141592653589793\n"
     ]
    }
   ],
   "source": [
    "# %timeit print(estimate_pi(), math.pi)\n",
    "\n",
    "print(estimate_pi(), math.pi)\n"
   ]
  },
  {
   "cell_type": "code",
   "execution_count": 26,
   "metadata": {},
   "outputs": [
    {
     "name": "stdout",
     "output_type": "stream",
     "text": [
      "wollow"
     ]
    }
   ],
   "source": [
    "# %%timeit\n",
    "def reverse(str):\n",
    "    n = len(str)-1\n",
    "    while not n<0:\n",
    "        print(str[n], end=\"\")\n",
    "        n -= 1\n",
    "\n",
    "str = \"wollow\"\n",
    "reverse(str)"
   ]
  },
  {
   "cell_type": "code",
   "execution_count": 27,
   "metadata": {},
   "outputs": [
    {
     "name": "stdout",
     "output_type": "stream",
     "text": [
      "Jack\n",
      "Kack\n",
      "Lack\n",
      "Mack\n",
      "Nack\n",
      "Oack\n",
      "Pack\n",
      "Qack\n"
     ]
    }
   ],
   "source": [
    "# Make Way for Ducklings\n",
    "# Original:\n",
    "\n",
    "prefixes = 'JKLMNOPQ'\n",
    "suffix = 'ack'\n",
    "\n",
    "for letter in prefixes:\n",
    "    print(letter + suffix)"
   ]
  },
  {
   "cell_type": "code",
   "execution_count": 28,
   "metadata": {},
   "outputs": [
    {
     "name": "stdout",
     "output_type": "stream",
     "text": [
      "Jack\n",
      "Kack\n",
      "Lack\n",
      "Mack\n",
      "Nack\n",
      "Ouack\n",
      "Pack\n",
      "Quack\n"
     ]
    }
   ],
   "source": [
    "# Fully correct\n",
    "prefixes = 'JKLMNOPQ'\n",
    "special  = \"OQ\"\n",
    "suffix = 'ack'\n",
    "\n",
    "for letter in prefixes:\n",
    "    if letter in special:\n",
    "        print(letter + \"u\" + suffix)\n",
    "    else:\n",
    "        print(letter + suffix)\n"
   ]
  },
  {
   "cell_type": "code",
   "execution_count": 29,
   "metadata": {},
   "outputs": [
    {
     "name": "stdout",
     "output_type": "stream",
     "text": [
      "find(\"hello\", \"l\") = 2 \n"
     ]
    }
   ],
   "source": [
    "# Original\n",
    "def find(word, letter):\n",
    "    index = 0\n",
    "    while index < len(word):\n",
    "        if word[index] == letter:\n",
    "            return index\n",
    "        index = index + 1\n",
    "    return -1\n",
    "\n",
    "word = \"hello\"\n",
    "letter = \"l\"\n",
    "print(f\"find(\\\"{word}\\\", \\\"{letter}\\\") = {find(word, letter)} \")"
   ]
  },
  {
   "cell_type": "code",
   "execution_count": 40,
   "metadata": {},
   "outputs": [
    {
     "name": "stdout",
     "output_type": "stream",
     "text": [
      "find(\"hello\", \"l\", 3) = 3 \n",
      "find(\"helllo\", \"l\", 4) = 4 \n",
      "find(\"\", \"l\", 1) = -1 \n",
      "find(\"h\", \"l\", 5) = -1 \n",
      "find(\"hrppo\", \"l\", 0) = -1 \n"
     ]
    }
   ],
   "source": [
    "# Modified to start the search at the n-th character\n",
    "def find(word, letter, n=0):\n",
    "    index = n\n",
    "    while index < len(word):\n",
    "        if word[index] == letter:\n",
    "            return index\n",
    "        index = index + 1\n",
    "    return -1\n",
    "\n",
    "\n",
    "word = \"hello\"\n",
    "letter = \"l\"\n",
    "n = 3\n",
    "\n",
    "test = {\"hello\" : 0,\n",
    "        \"hello\" : 3,\n",
    "        \"helllo\": 4,\n",
    "        \"\"      : 1,\n",
    "        \"h\"     : 5,\n",
    "        \"hrppo\" : 0,\n",
    "       }\n",
    "\n",
    "letter = \"l\"\n",
    "\n",
    "for word, n in test.items():\n",
    "    print(f\"find(\\\"{word}\\\", \\\"{letter}\\\", {n}) = {find(word, letter, n)} \")"
   ]
  },
  {
   "cell_type": "code",
   "execution_count": null,
   "metadata": {},
   "outputs": [],
   "source": [
    "# program counts the number of times the letter a appears in a string:\n",
    "\n",
    "word = 'banana'\n",
    "count = 0\n",
    "for letter in word:\n",
    "    if letter == 'a':\n",
    "        count = count + 1\n",
    "print(count)"
   ]
  },
  {
   "cell_type": "code",
   "execution_count": null,
   "metadata": {},
   "outputs": [],
   "source": [
    "# Rewrite as function\n",
    "def count(str, letter):\n",
    "    s = 0\n",
    "    for c in str:\n",
    "        if c == letter:\n",
    "            s += 1\n",
    "    return s\n",
    "\n",
    "word = \"hello\"\n",
    "letter = \"l\"\n",
    "n = 3\n",
    "print(f\"count(\\\"{word}\\\", \\\"{letter}\\\") = {count(word, letter)} \")"
   ]
  },
  {
   "cell_type": "code",
   "execution_count": 41,
   "metadata": {},
   "outputs": [
    {
     "name": "stdout",
     "output_type": "stream",
     "text": [
      "count(\"hello\", \"l\", 3) = 2 \n",
      "count(\"helllo\", \"l\", 4) = 3 \n",
      "count(\"\", \"l\", 1) = 0 \n",
      "count(\"h\", \"l\", 5) = 0 \n",
      "count(\"hrppo\", \"l\", 0) = 0 \n"
     ]
    }
   ],
   "source": [
    "# Rewrite using find above\n",
    "\n",
    "def count(str, letter):\n",
    "    s = 0\n",
    "    n = find(str, letter, 0)\n",
    "    if n < 0:\n",
    "        return 0\n",
    "    else:\n",
    "        return 1 + count(str[n+1:], letter)\n",
    "\n",
    "test = {\"hello\" : 0,\n",
    "        \"hello\" : 3,\n",
    "        \"helllo\": 4,\n",
    "        \"\"      : 1,\n",
    "        \"h\"     : 5,\n",
    "        \"hrppo\" : 0,\n",
    "       }\n",
    "\n",
    "letter = \"l\"\n",
    "\n",
    "for word, n in test.items():\n",
    "    print(f\"count(\\\"{word}\\\", \\\"{letter}\\\", {n}) = {count(word, letter)} \")"
   ]
  },
  {
   "cell_type": "code",
   "execution_count": 42,
   "metadata": {},
   "outputs": [
    {
     "name": "stdout",
     "output_type": "stream",
     "text": [
      "count(\"hello\", \"l\", 3) = 2 \n",
      "count(\"helllo\", \"l\", 4) = 3 \n",
      "count(\"\", \"l\", 1) = 0 \n",
      "count(\"h\", \"l\", 5) = 0 \n",
      "count(\"hrppo\", \"l\", 0) = 0 \n"
     ]
    }
   ],
   "source": [
    "# Second rewrite using find above\n",
    "\n",
    "def xcount(str, letter):\n",
    "    s = 0\n",
    "    n = 0\n",
    "    while True:\n",
    "        n = find(str, letter, n+1)\n",
    "        if n < 0:\n",
    "            return s\n",
    "        else:\n",
    "            s += 1\n",
    "            \n",
    "\n",
    "test = {\"hello\" : 0,\n",
    "        \"hello\" : 3,\n",
    "        \"helllo\": 4,\n",
    "        \"\"      : 1,\n",
    "        \"h\"     : 5,\n",
    "        \"hrppo\" : 0,\n",
    "       }\n",
    "\n",
    "letter = \"l\"\n",
    "\n",
    "for word, n in test.items():\n",
    "    print(f\"count(\\\"{word}\\\", \\\"{letter}\\\", {n}) = {count(word, letter)} \")"
   ]
  },
  {
   "cell_type": "code",
   "execution_count": 74,
   "metadata": {},
   "outputs": [],
   "source": [
    "# Check if 2 words are equal if one is reversed\n",
    "# There's a bug left. \n",
    "# Note that j=len(word2)-1 started in error as j=len(word2)\n",
    "def xis_reverse(word1, word2):\n",
    "    if len(word1) != len(word2):\n",
    "        return False\n",
    "    \n",
    "    i = 0\n",
    "    j = len(word2) - 1\n",
    "\n",
    "    while j > 0:\n",
    "        if word1[i] != word2[j]:\n",
    "            return False\n",
    "        i = i+1\n",
    "        j = j-1\n",
    "\n",
    "    return True\n",
    "\n"
   ]
  },
  {
   "cell_type": "code",
   "execution_count": 92,
   "metadata": {},
   "outputs": [],
   "source": [
    "# Repaired with j>=0 so that last characters are tested\n",
    "def is_reverse(word1, word2):\n",
    "    if len(word1) != len(word2):\n",
    "        return False\n",
    "    \n",
    "    i = 0\n",
    "    j = len(word2) - 1\n",
    "\n",
    "    while j >= 0:\n",
    "        if word1[i] != word2[j]:\n",
    "            return False\n",
    "        i = i+1\n",
    "        j = j-1\n",
    "\n",
    "    return True\n",
    "\n"
   ]
  },
  {
   "cell_type": "code",
   "execution_count": 99,
   "metadata": {},
   "outputs": [],
   "source": [
    "def test1(is_reverse):\n",
    "    test = {\n",
    "        \"stop\" : \"pots\", \n",
    "        \"12345\" : \"54321\", \n",
    "        \"pots\" : \"xtop\"\n",
    "    }\n",
    "    print(test)\n",
    "    for word1, word2 in test.items():\n",
    "        print(f\"{is_reverse.__name__}(\\\"{word1}\\\", \\\"{word2}\\\") = {is_reverse(word1, word2)} \")"
   ]
  },
  {
   "cell_type": "code",
   "execution_count": 100,
   "metadata": {},
   "outputs": [
    {
     "name": "stdout",
     "output_type": "stream",
     "text": [
      "{'stop': 'pots', '12345': '54321', 'pots': 'xtop'}\n",
      "xis_reverse(\"stop\", \"pots\") = True \n",
      "xis_reverse(\"12345\", \"54321\") = True \n",
      "xis_reverse(\"pots\", \"xtop\") = True \n"
     ]
    }
   ],
   "source": [
    "# Note the last test gives the wrong answer\n",
    "# It could have taken a lot of testing to find this\n",
    "test1(xis_reverse)"
   ]
  },
  {
   "cell_type": "code",
   "execution_count": 102,
   "metadata": {},
   "outputs": [
    {
     "name": "stdout",
     "output_type": "stream",
     "text": [
      "{'stop': 'pots', '12345': '54321', 'pots': 'xtop'}\n",
      "is_reverse(\"stop\", \"pots\") = True \n",
      "is_reverse(\"12345\", \"54321\") = True \n",
      "is_reverse(\"pots\", \"xtop\") = False \n"
     ]
    }
   ],
   "source": [
    "# The last answer is now correct\n",
    "test1(is_reverse)"
   ]
  },
  {
   "cell_type": "markdown",
   "metadata": {},
   "source": [
    "## Ex 8.2\n",
    "*There is a string method called count that is similar to the function in Section 8.7. Read the documentation of this method and write an invocation that counts the number of a’s in 'banana'.*"
   ]
  },
  {
   "cell_type": "code",
   "execution_count": 104,
   "metadata": {},
   "outputs": [
    {
     "data": {
      "text/plain": [
       "3"
      ]
     },
     "execution_count": 104,
     "metadata": {},
     "output_type": "execute_result"
    }
   ],
   "source": [
    "\"banana\".count(\"a\")"
   ]
  },
  {
   "cell_type": "markdown",
   "metadata": {},
   "source": [
    "## Ex 8.3\n",
    "*A string slice can take a third index that specifies the “step size”; that is, the number of spaces between successive characters. A step size of 2 means every other character; 3 means every third, etc.*\n",
    "```\n",
    ">>> fruit = 'banana'\n",
    ">>> fruit[0:5:2]\n",
    "'bnn'\n",
    "```\n",
    "A step size of -1 goes through the word backwards, so the slice [::-1] generates a reversed string.\n",
    "\n",
    "Use this idiom to write a one-line version of is_palindrome from Exercise 3.*"
   ]
  },
  {
   "cell_type": "code",
   "execution_count": 117,
   "metadata": {},
   "outputs": [],
   "source": [
    "def is_palindrome(word):\n",
    "    temp = prepare_palindrome(word)\n",
    "    return temp[:] == temp[::-1]\n",
    "\n",
    "def prepare_palindrome(word):\n",
    "    \"\"\" remove characters that should not be considered in a palindrome\"\"\"\n",
    "    exclude = \" !,.;:\"\n",
    "    result = \"\"\n",
    "    for c in word:\n",
    "        if not (c in exclude):\n",
    "            result += c\n",
    "    return result.upper()\n",
    "\n",
    "def test2(fn):\n",
    "    test = {\n",
    "        \"banana\" : \"no\", \n",
    "        \"wollow\" : \"yes\",\n",
    "        \"A dog! A panic in a pagoda\" : \"yes\",\n",
    "        \"A lot not new I saw as I went on to L.A.\" : \"yes\",\n",
    "    }\n",
    "    print(test)\n",
    "    for word1, word2 in test.items():\n",
    "        print(f\"{fn.__name__}(\\\"{word1}\\\") = {fn(word1)} \")"
   ]
  },
  {
   "cell_type": "code",
   "execution_count": 118,
   "metadata": {},
   "outputs": [
    {
     "name": "stdout",
     "output_type": "stream",
     "text": [
      "{'banana': 'no', 'wollow': 'yes', 'A dog! A panic in a pagoda': 'yes', 'A lot not new I saw as I went on to L.A.': 'yes'}\n",
      "is_palindrome(\"banana\") = False \n",
      "is_palindrome(\"wollow\") = True \n",
      "is_palindrome(\"A dog! A panic in a pagoda\") = True \n",
      "is_palindrome(\"A lot not new I saw as I went on to L.A.\") = True \n"
     ]
    }
   ],
   "source": [
    "test2(is_palindrome)"
   ]
  },
  {
   "cell_type": "code",
   "execution_count": null,
   "metadata": {},
   "outputs": [],
   "source": []
  }
 ],
 "metadata": {
  "kernelspec": {
   "display_name": "Python 3",
   "language": "python",
   "name": "python3"
  },
  "language_info": {
   "codemirror_mode": {
    "name": "ipython",
    "version": 3
   },
   "file_extension": ".py",
   "mimetype": "text/x-python",
   "name": "python",
   "nbconvert_exporter": "python",
   "pygments_lexer": "ipython3",
   "version": "3.8.5"
  }
 },
 "nbformat": 4,
 "nbformat_minor": 4
}
